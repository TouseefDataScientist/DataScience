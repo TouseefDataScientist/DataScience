{
  "nbformat": 4,
  "nbformat_minor": 0,
  "metadata": {
    "colab": {
      "provenance": []
    },
    "kernelspec": {
      "name": "python3",
      "display_name": "Python 3"
    },
    "language_info": {
      "name": "python"
    }
  },
  "cells": [
    {
      "cell_type": "markdown",
      "source": [
        "Touseef Ahmed\n",
        "20101133 \n",
        "# assignment 2 "
      ],
      "metadata": {
        "id": "kamJslWvKE2J"
      }
    },
    {
      "cell_type": "markdown",
      "source": [
        " Write a Python code to display first 100 prime numbers"
      ],
      "metadata": {
        "id": "x4186NY1Hk6P"
      }
    },
    {
      "cell_type": "code",
      "source": [
        "for i in range(1,101): \n",
        "    for j in range(2,101):\n",
        "        if i%j == 0:\n",
        "            break\n",
        "    if i == j:\n",
        "        print(i,end=\",\")"
      ],
      "metadata": {
        "colab": {
          "base_uri": "https://localhost:8080/"
        },
        "id": "piqSoobKHftm",
        "outputId": "6a1257a3-a088-4317-80c9-17e432b6e6aa"
      },
      "execution_count": 6,
      "outputs": [
        {
          "output_type": "stream",
          "name": "stdout",
          "text": [
            "2,3,5,7,11,13,17,19,23,29,31,37,41,43,47,53,59,61,67,71,73,79,83,89,97,"
          ]
        }
      ]
    },
    {
      "cell_type": "code",
      "source": [],
      "metadata": {
        "id": "Mk-qEyUjHSCh"
      },
      "execution_count": null,
      "outputs": []
    },
    {
      "cell_type": "markdown",
      "source": [
        "For the given list Lst = [1,3,2,4,5,1,4,1,9,10,11,1,2,11,10,8,1,2,3,11,1,10], remove the repititons and make two new lists\n",
        "Lst_even and Lst_odd containing the even and odd numbers \n"
      ],
      "metadata": {
        "id": "n0XXMJG7HeCk"
      }
    },
    {
      "cell_type": "code",
      "source": [
        "Lst = [1,3,2,4,5,1,4,1,9,10,11,1,2,11,10,8,1,2,3,11,1,10]"
      ],
      "metadata": {
        "id": "wKq99S8JG2QY"
      },
      "execution_count": 7,
      "outputs": []
    },
    {
      "cell_type": "code",
      "source": [
        "# remove duplicates from the list\n",
        "Lst = list(set(Lst))\n",
        "\n",
        "# initialize empty lists for even and odd numbers\n",
        "Lst_even = []\n",
        "Lst_odd = []\n",
        "\n",
        "# iterate through the list and separate even and odd numbers\n",
        "for num in Lst:\n",
        "  if num % 2 == 0:\n",
        "    Lst_even.append(num)\n",
        "  else:\n",
        "    Lst_odd.append(num)\n",
        "\n"
      ],
      "metadata": {
        "id": "V4y8u5YrICgT"
      },
      "execution_count": 17,
      "outputs": []
    },
    {
      "cell_type": "code",
      "source": [
        "# print the even and odd lists\n",
        "print(Lst_even)\n",
        "print(Lst_odd)"
      ],
      "metadata": {
        "colab": {
          "base_uri": "https://localhost:8080/"
        },
        "id": "vI9nJxBkIL0g",
        "outputId": "68d7a31a-433f-4a12-aff5-9e7223817938"
      },
      "execution_count": 18,
      "outputs": [
        {
          "output_type": "stream",
          "name": "stdout",
          "text": [
            "[2, 4, 8, 10]\n",
            "[1, 3, 5, 9, 11]\n"
          ]
        }
      ]
    },
    {
      "cell_type": "code",
      "source": [],
      "metadata": {
        "id": "xPU99yyaIM5Z"
      },
      "execution_count": null,
      "outputs": []
    }
  ]
}