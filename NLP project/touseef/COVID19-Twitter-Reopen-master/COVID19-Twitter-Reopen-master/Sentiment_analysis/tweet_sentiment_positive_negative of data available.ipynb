{
 "cells": [
  {
   "cell_type": "code",
   "execution_count": 1,
   "metadata": {
    "ExecuteTime": {
     "end_time": "2022-01-01T00:23:19.898739Z",
     "start_time": "2022-01-01T00:23:17.952167Z"
    }
   },
   "outputs": [],
   "source": [
    "import numpy as np\n",
    "import pandas as pd\n",
    "import matplotlib.pyplot as plt\n",
    "import seaborn as sns\n",
    "import datetime\n",
    "%matplotlib inline\n",
    "\n",
    "font = {'size'   : 12}\n",
    "\n",
    "plt.rc('font', **font)"
   ]
  },
  {
   "cell_type": "markdown",
   "metadata": {},
   "source": [
    "## Read Files"
   ]
  },
  {
   "cell_type": "code",
   "execution_count": 2,
   "metadata": {
    "ExecuteTime": {
     "end_time": "2022-01-01T00:23:20.010657Z",
     "start_time": "2022-01-01T00:23:19.898739Z"
    }
   },
   "outputs": [],
   "source": [
    "# df = pd.read_csv('Twitter_data/Data/covid_data_FULL.csv')\n",
    "df = pd.read_csv('covid_data_reopen.csv')\n",
    "\n",
    "# df = df.head(2000)\n",
    "# df.info()"
   ]
  },
  {
   "cell_type": "code",
   "execution_count": 3,
   "metadata": {
    "ExecuteTime": {
     "end_time": "2022-01-01T00:23:20.026649Z",
     "start_time": "2022-01-01T00:23:20.013655Z"
    }
   },
   "outputs": [],
   "source": [
    "# df.head()"
   ]
  },
  {
   "cell_type": "markdown",
   "metadata": {},
   "source": [
    "## TextBlob Sentiment details "
   ]
  },
  {
   "cell_type": "markdown",
   "metadata": {},
   "source": [
    "-- **Polarity:**  How positive or negative a word is. -1 is very negative. +1 is very positive. 0 is neutral.\n",
    "\n",
    "-- **Subjectivity:** How subjective, or opinionated a word is. 0 is fact. +1 is very much opinion (public opinion)."
   ]
  },
  {
   "cell_type": "code",
   "execution_count": 4,
   "metadata": {
    "ExecuteTime": {
     "end_time": "2022-01-01T00:23:20.261889Z",
     "start_time": "2022-01-01T00:23:20.029648Z"
    }
   },
   "outputs": [],
   "source": [
    "## Get the polarity and subjectivity and create columns\n",
    "\n",
    "df['polarity'] = df['sentiment'].apply(lambda x: round(float(x.split('polarity=')[1].split(',')[0]),2))\n",
    "df['subjectivity'] = df['sentiment'].apply(lambda x: round(float(x.split('subjectivity=')[1].split(')')[0]),2))\n",
    "# df.head(10)"
   ]
  },
  {
   "cell_type": "markdown",
   "metadata": {},
   "source": [
    "## Create sentiment_type column"
   ]
  },
  {
   "cell_type": "code",
   "execution_count": 5,
   "metadata": {
    "ExecuteTime": {
     "end_time": "2022-01-01T00:23:20.309881Z",
     "start_time": "2022-01-01T00:23:20.264902Z"
    }
   },
   "outputs": [],
   "source": [
    "df['sentiment_type'] = df['polarity'].apply(lambda x: 'Positive' if x > 0 else ('Negative' if x < 0 else 'Neutral'))\n",
    "df['subjectivity_type'] = df['subjectivity'].apply(lambda x: 'Opinion' if x > 0 else 'Fact')\n",
    "# df.head()"
   ]
  },
  {
   "cell_type": "code",
   "execution_count": 6,
   "metadata": {
    "ExecuteTime": {
     "end_time": "2022-01-01T00:23:20.325864Z",
     "start_time": "2022-01-01T00:23:20.311872Z"
    }
   },
   "outputs": [],
   "source": [
    "def getDate(date_data):\n",
    "    temp = date_data.split(\" \")\n",
    "    month = temp[1]\n",
    "    day = temp[2]\n",
    "    year = temp[5]\n",
    "    date = month + \" \" + str(day) + \" \" + str(year)\n",
    "    date = datetime.datetime.strptime(date, '%b %d %Y')\n",
    "    return date\n"
   ]
  },
  {
   "cell_type": "code",
   "execution_count": 7,
   "metadata": {
    "ExecuteTime": {
     "end_time": "2022-01-01T00:23:21.336922Z",
     "start_time": "2022-01-01T00:23:20.328864Z"
    }
   },
   "outputs": [],
   "source": [
    "## Get the date\n",
    "\n",
    "df['date'] = df['created_at'].apply(lambda x: getDate(x))\n",
    "# df.head()"
   ]
  },
  {
   "cell_type": "code",
   "execution_count": 8,
   "metadata": {
    "ExecuteTime": {
     "end_time": "2022-01-01T00:23:21.368390Z",
     "start_time": "2022-01-01T00:23:21.342367Z"
    }
   },
   "outputs": [],
   "source": [
    "# df['sentiment_type_count'] = df['date'].groupby(df['sentiment_type']).transform('count')\n",
    "# df['subjectivity_type_count'] = df['date'].groupby(df['subjectivity_type']).transform('count')\n",
    "df['sentiment_type_count'] = df['sentiment_type'].groupby(df['date']).transform('count')\n",
    "df['subjectivity_type_count'] = df['subjectivity_type'].groupby(df['date']).transform('count')\n",
    "# df.head()"
   ]
  },
  {
   "cell_type": "code",
   "execution_count": 9,
   "metadata": {
    "ExecuteTime": {
     "end_time": "2022-01-01T00:23:21.399368Z",
     "start_time": "2022-01-01T00:23:21.373385Z"
    }
   },
   "outputs": [
    {
     "data": {
      "text/html": [
       "<div>\n",
       "<style scoped>\n",
       "    .dataframe tbody tr th:only-of-type {\n",
       "        vertical-align: middle;\n",
       "    }\n",
       "\n",
       "    .dataframe tbody tr th {\n",
       "        vertical-align: top;\n",
       "    }\n",
       "\n",
       "    .dataframe thead th {\n",
       "        text-align: right;\n",
       "    }\n",
       "</style>\n",
       "<table border=\"1\" class=\"dataframe\">\n",
       "  <thead>\n",
       "    <tr style=\"text-align: right;\">\n",
       "      <th></th>\n",
       "      <th>types</th>\n",
       "      <th>counts</th>\n",
       "    </tr>\n",
       "  </thead>\n",
       "  <tbody>\n",
       "    <tr>\n",
       "      <th>0</th>\n",
       "      <td>Neutral</td>\n",
       "      <td>22479</td>\n",
       "    </tr>\n",
       "    <tr>\n",
       "      <th>1</th>\n",
       "      <td>Positive</td>\n",
       "      <td>17400</td>\n",
       "    </tr>\n",
       "    <tr>\n",
       "      <th>2</th>\n",
       "      <td>Negative</td>\n",
       "      <td>4307</td>\n",
       "    </tr>\n",
       "  </tbody>\n",
       "</table>\n",
       "</div>"
      ],
      "text/plain": [
       "      types  counts\n",
       "0   Neutral   22479\n",
       "1  Positive   17400\n",
       "2  Negative    4307"
      ]
     },
     "execution_count": 9,
     "metadata": {},
     "output_type": "execute_result"
    }
   ],
   "source": [
    "df_sentiment_count = df.sentiment_type.value_counts().rename_axis('types').reset_index(name='counts')\n",
    "df_sentiment_count"
   ]
  },
  {
   "cell_type": "code",
   "execution_count": 10,
   "metadata": {
    "ExecuteTime": {
     "end_time": "2022-01-01T00:23:21.430351Z",
     "start_time": "2022-01-01T00:23:21.402368Z"
    }
   },
   "outputs": [
    {
     "data": {
      "text/html": [
       "<div>\n",
       "<style scoped>\n",
       "    .dataframe tbody tr th:only-of-type {\n",
       "        vertical-align: middle;\n",
       "    }\n",
       "\n",
       "    .dataframe tbody tr th {\n",
       "        vertical-align: top;\n",
       "    }\n",
       "\n",
       "    .dataframe thead th {\n",
       "        text-align: right;\n",
       "    }\n",
       "</style>\n",
       "<table border=\"1\" class=\"dataframe\">\n",
       "  <thead>\n",
       "    <tr style=\"text-align: right;\">\n",
       "      <th></th>\n",
       "      <th>types</th>\n",
       "      <th>counts</th>\n",
       "      <th>percentage</th>\n",
       "    </tr>\n",
       "  </thead>\n",
       "  <tbody>\n",
       "    <tr>\n",
       "      <th>0</th>\n",
       "      <td>Neutral</td>\n",
       "      <td>22479</td>\n",
       "      <td>50.87</td>\n",
       "    </tr>\n",
       "    <tr>\n",
       "      <th>1</th>\n",
       "      <td>Positive</td>\n",
       "      <td>17400</td>\n",
       "      <td>39.38</td>\n",
       "    </tr>\n",
       "    <tr>\n",
       "      <th>2</th>\n",
       "      <td>Negative</td>\n",
       "      <td>4307</td>\n",
       "      <td>9.75</td>\n",
       "    </tr>\n",
       "  </tbody>\n",
       "</table>\n",
       "</div>"
      ],
      "text/plain": [
       "      types  counts  percentage\n",
       "0   Neutral   22479       50.87\n",
       "1  Positive   17400       39.38\n",
       "2  Negative    4307        9.75"
      ]
     },
     "execution_count": 10,
     "metadata": {},
     "output_type": "execute_result"
    }
   ],
   "source": [
    "df_sentiment_count['percentage'] = df_sentiment_count['counts'].apply(lambda x: round(x * 100 / sum(df_sentiment_count['counts']), 2)) \n",
    "df_sentiment_count"
   ]
  },
  {
   "cell_type": "markdown",
   "metadata": {},
   "source": [
    "## Barplot for Sentiment type"
   ]
  },
  {
   "cell_type": "code",
   "execution_count": 11,
   "metadata": {
    "ExecuteTime": {
     "end_time": "2022-01-01T00:23:21.700405Z",
     "start_time": "2022-01-01T00:23:21.434347Z"
    }
   },
   "outputs": [
    {
     "data": {
      "image/png": "[encoded data removed]",
      "text/plain": [
       "<Figure size 1080x576 with 1 Axes>"
      ]
     },
     "metadata": {
      "needs_background": "light"
     },
     "output_type": "display_data"
    }
   ],
   "source": [
    "fig, ax = plt.subplots(figsize=(15,8))\n",
    "barlist = plt.bar(df_sentiment_count['types'], df_sentiment_count['counts'], color=\"dodgerblue\", width=0.8)\n",
    "barlist[0].set_color('blue')\n",
    "barlist[1].set_color('green')\n",
    "barlist[2].set_color('red')\n",
    "barlist[0].set_alpha(0.7)\n",
    "barlist[1].set_alpha(0.7)\n",
    "barlist[2].set_alpha(0.7)\n",
    "plt.xlabel('', fontsize=18)\n",
    "plt.ylabel('# of Tweets', fontsize=18)\n",
    "plt.title('')\n",
    "plt.tick_params(axis='x', which='major', labelsize=18)\n",
    "for i, p in enumerate(ax.patches):\n",
    "    height = p.get_height()\n",
    "    ax.text(p.get_x()+p.get_width()/2., height+200, df_sentiment_count['counts'][i],\n",
    "            ha=\"center\", fontsize=16)\n",
    "# plt.savefig('plots/barplot_sentiment_type.png')\n",
    "plt.show()"
   ]
  },
  {
   "cell_type": "markdown",
   "metadata": {},
   "source": [
    "## Barplot for Sentiment type Percentages"
   ]
  },
  {
   "cell_type": "code",
   "execution_count": 12,
   "metadata": {
    "ExecuteTime": {
     "end_time": "2022-01-01T00:23:22.018210Z",
     "start_time": "2022-01-01T00:23:21.706403Z"
    }
   },
   "outputs": [
    {
     "data": {
      "image/png": "[encoded data removed]",
      "text/plain": [
       "<Figure size 1080x576 with 1 Axes>"
      ]
     },
     "metadata": {
      "needs_background": "light"
     },
     "output_type": "display_data"
    }
   ],
   "source": [
    "fig, ax = plt.subplots(figsize=(15,8))\n",
    "barlist = plt.bar(df_sentiment_count['types'], df_sentiment_count['percentage'], color=\"dodgerblue\", width=0.8)\n",
    "barlist[0].set_color('blue')\n",
    "barlist[1].set_color('green')\n",
    "barlist[2].set_color('red')\n",
    "barlist[0].set_alpha(0.7)\n",
    "barlist[1].set_alpha(0.7)\n",
    "barlist[2].set_alpha(0.7)\n",
    "plt.ylim(0,55)\n",
    "plt.xlabel('', fontsize=18)\n",
    "plt.ylabel('# of Tweets [%]', fontsize=18)\n",
    "plt.title('')\n",
    "plt.tick_params(axis='x', which='major', labelsize=18)\n",
    "for i, p in enumerate(ax.patches):\n",
    "    height = p.get_height()\n",
    "    ax.text(p.get_x()+p.get_width()/2., height+0.5, df_sentiment_count['percentage'][i],\n",
    "            ha=\"center\", fontsize=16)\n",
    "# plt.savefig('plots/barplot_sentiment_type_percentage.png')\n",
    "plt.show()"
   ]
  }
 ],
 "metadata": {
  "kernelspec": {
   "display_name": "Python 3",
   "language": "python",
   "name": "python3"
  },
  "language_info": {
   "codemirror_mode": {
    "name": "ipython",
    "version": 3
   },
   "file_extension": ".py",
   "mimetype": "text/x-python",
   "name": "python",
   "nbconvert_exporter": "python",
   "pygments_lexer": "ipython3",
   "version": "3.8.5"
  }
 },
 "nbformat": 4,
 "nbformat_minor": 2
}
