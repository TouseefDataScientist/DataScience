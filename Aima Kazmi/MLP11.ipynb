{
  "cells": [
    {
      "cell_type": "markdown",
      "metadata": {},
      "source": [
        "### Name: Aima Kazmi <br> Subject: Machine Learning <br> Assignment No: <br> Date:12/29/2023"
      ]
    },
    {
      "cell_type": "code",
      "execution_count": 8,
      "metadata": {
        "id": "bWnx2Q3BamT1"
      },
      "outputs": [],
      "source": [
        "#import Libraries\n",
        "import pandas as pd\n",
        "import numpy as np\n",
        "import seaborn as sns\n",
        "import matplotlib.pyplot as plt\n",
        "import plotly.express as px\n",
        "from scipy import stats"
      ]
    },
    {
      "cell_type": "code",
      "execution_count": 16,
      "metadata": {
        "id": "H1_p2invav-o"
      },
      "outputs": [],
      "source": [
        "#read Dataset\n",
        "df = pd.read_csv('adverts.csv')"
      ]
    },
    {
      "cell_type": "code",
      "execution_count": 17,
      "metadata": {},
      "outputs": [
        {
          "name": "stdout",
          "output_type": "stream",
          "text": [
            "<class 'pandas.core.frame.DataFrame'>\n",
            "RangeIndex: 402005 entries, 0 to 402004\n",
            "Data columns (total 12 columns):\n",
            " #   Column                 Non-Null Count   Dtype  \n",
            "---  ------                 --------------   -----  \n",
            " 0   public_reference       402005 non-null  int64  \n",
            " 1   mileage                401878 non-null  float64\n",
            " 2   reg_code               370148 non-null  object \n",
            " 3   standard_colour        396627 non-null  object \n",
            " 4   standard_make          402005 non-null  object \n",
            " 5   standard_model         402005 non-null  object \n",
            " 6   vehicle_condition      402005 non-null  object \n",
            " 7   year_of_registration   368694 non-null  float64\n",
            " 8   price                  402005 non-null  int64  \n",
            " 9   body_type              401168 non-null  object \n",
            " 10  crossover_car_and_van  402005 non-null  bool   \n",
            " 11  fuel_type              401404 non-null  object \n",
            "dtypes: bool(1), float64(2), int64(2), object(7)\n",
            "memory usage: 34.1+ MB\n"
          ]
        }
      ],
      "source": [
        "df.info()"
      ]
    },
    {
      "cell_type": "code",
      "execution_count": 18,
      "metadata": {
        "colab": {
          "base_uri": "https://localhost:8080/",
          "height": 278
        },
        "id": "qW8TET7CblXm",
        "outputId": "5d751667-4a79-4113-efcc-2897a725aeaf"
      },
      "outputs": [
        {
          "data": {
            "text/html": [
              "<div>\n",
              "<style scoped>\n",
              "    .dataframe tbody tr th:only-of-type {\n",
              "        vertical-align: middle;\n",
              "    }\n",
              "\n",
              "    .dataframe tbody tr th {\n",
              "        vertical-align: top;\n",
              "    }\n",
              "\n",
              "    .dataframe thead th {\n",
              "        text-align: right;\n",
              "    }\n",
              "</style>\n",
              "<table border=\"1\" class=\"dataframe\">\n",
              "  <thead>\n",
              "    <tr style=\"text-align: right;\">\n",
              "      <th></th>\n",
              "      <th>public_reference</th>\n",
              "      <th>mileage</th>\n",
              "      <th>reg_code</th>\n",
              "      <th>standard_colour</th>\n",
              "      <th>standard_make</th>\n",
              "      <th>standard_model</th>\n",
              "      <th>vehicle_condition</th>\n",
              "      <th>year_of_registration</th>\n",
              "      <th>price</th>\n",
              "      <th>body_type</th>\n",
              "      <th>crossover_car_and_van</th>\n",
              "      <th>fuel_type</th>\n",
              "    </tr>\n",
              "  </thead>\n",
              "  <tbody>\n",
              "    <tr>\n",
              "      <th>0</th>\n",
              "      <td>202006039777689</td>\n",
              "      <td>0.0</td>\n",
              "      <td>NaN</td>\n",
              "      <td>Grey</td>\n",
              "      <td>Volvo</td>\n",
              "      <td>XC90</td>\n",
              "      <td>NEW</td>\n",
              "      <td>NaN</td>\n",
              "      <td>73970</td>\n",
              "      <td>SUV</td>\n",
              "      <td>False</td>\n",
              "      <td>Petrol Plug-in Hybrid</td>\n",
              "    </tr>\n",
              "    <tr>\n",
              "      <th>1</th>\n",
              "      <td>202007020778260</td>\n",
              "      <td>108230.0</td>\n",
              "      <td>61</td>\n",
              "      <td>Blue</td>\n",
              "      <td>Jaguar</td>\n",
              "      <td>XF</td>\n",
              "      <td>USED</td>\n",
              "      <td>2011.0</td>\n",
              "      <td>7000</td>\n",
              "      <td>Saloon</td>\n",
              "      <td>False</td>\n",
              "      <td>Diesel</td>\n",
              "    </tr>\n",
              "    <tr>\n",
              "      <th>2</th>\n",
              "      <td>202007020778474</td>\n",
              "      <td>7800.0</td>\n",
              "      <td>17</td>\n",
              "      <td>Grey</td>\n",
              "      <td>SKODA</td>\n",
              "      <td>Yeti</td>\n",
              "      <td>USED</td>\n",
              "      <td>2017.0</td>\n",
              "      <td>14000</td>\n",
              "      <td>SUV</td>\n",
              "      <td>False</td>\n",
              "      <td>Petrol</td>\n",
              "    </tr>\n",
              "    <tr>\n",
              "      <th>3</th>\n",
              "      <td>202007080986776</td>\n",
              "      <td>45000.0</td>\n",
              "      <td>16</td>\n",
              "      <td>Brown</td>\n",
              "      <td>Vauxhall</td>\n",
              "      <td>Mokka</td>\n",
              "      <td>USED</td>\n",
              "      <td>2016.0</td>\n",
              "      <td>7995</td>\n",
              "      <td>Hatchback</td>\n",
              "      <td>False</td>\n",
              "      <td>Diesel</td>\n",
              "    </tr>\n",
              "    <tr>\n",
              "      <th>4</th>\n",
              "      <td>202007161321269</td>\n",
              "      <td>64000.0</td>\n",
              "      <td>64</td>\n",
              "      <td>Grey</td>\n",
              "      <td>Land Rover</td>\n",
              "      <td>Range Rover Sport</td>\n",
              "      <td>USED</td>\n",
              "      <td>2015.0</td>\n",
              "      <td>26995</td>\n",
              "      <td>SUV</td>\n",
              "      <td>False</td>\n",
              "      <td>Diesel</td>\n",
              "    </tr>\n",
              "  </tbody>\n",
              "</table>\n",
              "</div>"
            ],
            "text/plain": [
              "   public_reference   mileage reg_code standard_colour standard_make  \\\n",
              "0   202006039777689       0.0      NaN            Grey         Volvo   \n",
              "1   202007020778260  108230.0       61            Blue        Jaguar   \n",
              "2   202007020778474    7800.0       17            Grey         SKODA   \n",
              "3   202007080986776   45000.0       16           Brown      Vauxhall   \n",
              "4   202007161321269   64000.0       64            Grey    Land Rover   \n",
              "\n",
              "      standard_model vehicle_condition  year_of_registration  price  \\\n",
              "0               XC90               NEW                   NaN  73970   \n",
              "1                 XF              USED                2011.0   7000   \n",
              "2               Yeti              USED                2017.0  14000   \n",
              "3              Mokka              USED                2016.0   7995   \n",
              "4  Range Rover Sport              USED                2015.0  26995   \n",
              "\n",
              "   body_type  crossover_car_and_van              fuel_type  \n",
              "0        SUV                  False  Petrol Plug-in Hybrid  \n",
              "1     Saloon                  False                 Diesel  \n",
              "2        SUV                  False                 Petrol  \n",
              "3  Hatchback                  False                 Diesel  \n",
              "4        SUV                  False                 Diesel  "
            ]
          },
          "execution_count": 18,
          "metadata": {},
          "output_type": "execute_result"
        }
      ],
      "source": [
        "df.head()"
      ]
    },
    {
      "cell_type": "code",
      "execution_count": 19,
      "metadata": {},
      "outputs": [
        {
          "data": {
            "text/html": [
              "<div>\n",
              "<style scoped>\n",
              "    .dataframe tbody tr th:only-of-type {\n",
              "        vertical-align: middle;\n",
              "    }\n",
              "\n",
              "    .dataframe tbody tr th {\n",
              "        vertical-align: top;\n",
              "    }\n",
              "\n",
              "    .dataframe thead th {\n",
              "        text-align: right;\n",
              "    }\n",
              "</style>\n",
              "<table border=\"1\" class=\"dataframe\">\n",
              "  <thead>\n",
              "    <tr style=\"text-align: right;\">\n",
              "      <th></th>\n",
              "      <th>public_reference</th>\n",
              "      <th>mileage</th>\n",
              "      <th>reg_code</th>\n",
              "      <th>standard_colour</th>\n",
              "      <th>standard_make</th>\n",
              "      <th>standard_model</th>\n",
              "      <th>vehicle_condition</th>\n",
              "      <th>year_of_registration</th>\n",
              "      <th>price</th>\n",
              "      <th>body_type</th>\n",
              "      <th>crossover_car_and_van</th>\n",
              "      <th>fuel_type</th>\n",
              "    </tr>\n",
              "  </thead>\n",
              "  <tbody>\n",
              "    <tr>\n",
              "      <th>402000</th>\n",
              "      <td>202010315652942</td>\n",
              "      <td>5179.0</td>\n",
              "      <td>69</td>\n",
              "      <td>Grey</td>\n",
              "      <td>Peugeot</td>\n",
              "      <td>208</td>\n",
              "      <td>USED</td>\n",
              "      <td>2019.0</td>\n",
              "      <td>10595</td>\n",
              "      <td>Hatchback</td>\n",
              "      <td>False</td>\n",
              "      <td>Petrol</td>\n",
              "    </tr>\n",
              "    <tr>\n",
              "      <th>402001</th>\n",
              "      <td>202010315657341</td>\n",
              "      <td>110000.0</td>\n",
              "      <td>59</td>\n",
              "      <td>Red</td>\n",
              "      <td>Peugeot</td>\n",
              "      <td>107</td>\n",
              "      <td>USED</td>\n",
              "      <td>2009.0</td>\n",
              "      <td>2000</td>\n",
              "      <td>Hatchback</td>\n",
              "      <td>False</td>\n",
              "      <td>Petrol</td>\n",
              "    </tr>\n",
              "    <tr>\n",
              "      <th>402002</th>\n",
              "      <td>202010315659271</td>\n",
              "      <td>52760.0</td>\n",
              "      <td>62</td>\n",
              "      <td>White</td>\n",
              "      <td>Nissan</td>\n",
              "      <td>Qashqai</td>\n",
              "      <td>USED</td>\n",
              "      <td>2012.0</td>\n",
              "      <td>7250</td>\n",
              "      <td>SUV</td>\n",
              "      <td>False</td>\n",
              "      <td>Petrol</td>\n",
              "    </tr>\n",
              "    <tr>\n",
              "      <th>402003</th>\n",
              "      <td>202011015662436</td>\n",
              "      <td>10250.0</td>\n",
              "      <td>65</td>\n",
              "      <td>Red</td>\n",
              "      <td>Abarth</td>\n",
              "      <td>595</td>\n",
              "      <td>USED</td>\n",
              "      <td>2015.0</td>\n",
              "      <td>11490</td>\n",
              "      <td>Hatchback</td>\n",
              "      <td>False</td>\n",
              "      <td>Petrol</td>\n",
              "    </tr>\n",
              "    <tr>\n",
              "      <th>402004</th>\n",
              "      <td>201512149444029</td>\n",
              "      <td>14000.0</td>\n",
              "      <td>14</td>\n",
              "      <td>Silver</td>\n",
              "      <td>Audi</td>\n",
              "      <td>A4 Avant</td>\n",
              "      <td>USED</td>\n",
              "      <td>2014.0</td>\n",
              "      <td>20520</td>\n",
              "      <td>Estate</td>\n",
              "      <td>False</td>\n",
              "      <td>Diesel</td>\n",
              "    </tr>\n",
              "  </tbody>\n",
              "</table>\n",
              "</div>"
            ],
            "text/plain": [
              "        public_reference   mileage reg_code standard_colour standard_make  \\\n",
              "402000   202010315652942    5179.0       69            Grey       Peugeot   \n",
              "402001   202010315657341  110000.0       59             Red       Peugeot   \n",
              "402002   202010315659271   52760.0       62           White        Nissan   \n",
              "402003   202011015662436   10250.0       65             Red        Abarth   \n",
              "402004   201512149444029   14000.0       14          Silver          Audi   \n",
              "\n",
              "       standard_model vehicle_condition  year_of_registration  price  \\\n",
              "402000            208              USED                2019.0  10595   \n",
              "402001            107              USED                2009.0   2000   \n",
              "402002        Qashqai              USED                2012.0   7250   \n",
              "402003            595              USED                2015.0  11490   \n",
              "402004       A4 Avant              USED                2014.0  20520   \n",
              "\n",
              "        body_type  crossover_car_and_van fuel_type  \n",
              "402000  Hatchback                  False    Petrol  \n",
              "402001  Hatchback                  False    Petrol  \n",
              "402002        SUV                  False    Petrol  \n",
              "402003  Hatchback                  False    Petrol  \n",
              "402004     Estate                  False    Diesel  "
            ]
          },
          "execution_count": 19,
          "metadata": {},
          "output_type": "execute_result"
        }
      ],
      "source": [
        "df.tail()"
      ]
    },
    {
      "cell_type": "code",
      "execution_count": 20,
      "metadata": {
        "colab": {
          "base_uri": "https://localhost:8080/"
        },
        "id": "pyZnKThVc2ob",
        "outputId": "67de08d3-0df7-4534-deac-4e3c4280ee35"
      },
      "outputs": [
        {
          "data": {
            "text/html": [
              "<div>\n",
              "<style scoped>\n",
              "    .dataframe tbody tr th:only-of-type {\n",
              "        vertical-align: middle;\n",
              "    }\n",
              "\n",
              "    .dataframe tbody tr th {\n",
              "        vertical-align: top;\n",
              "    }\n",
              "\n",
              "    .dataframe thead th {\n",
              "        text-align: right;\n",
              "    }\n",
              "</style>\n",
              "<table border=\"1\" class=\"dataframe\">\n",
              "  <thead>\n",
              "    <tr style=\"text-align: right;\">\n",
              "      <th></th>\n",
              "      <th>public_reference</th>\n",
              "      <th>mileage</th>\n",
              "      <th>year_of_registration</th>\n",
              "      <th>price</th>\n",
              "    </tr>\n",
              "  </thead>\n",
              "  <tbody>\n",
              "    <tr>\n",
              "      <th>count</th>\n",
              "      <td>4.020050e+05</td>\n",
              "      <td>401878.000000</td>\n",
              "      <td>368694.000000</td>\n",
              "      <td>4.020050e+05</td>\n",
              "    </tr>\n",
              "    <tr>\n",
              "      <th>mean</th>\n",
              "      <td>2.020071e+14</td>\n",
              "      <td>37743.595656</td>\n",
              "      <td>2015.006206</td>\n",
              "      <td>1.734197e+04</td>\n",
              "    </tr>\n",
              "    <tr>\n",
              "      <th>std</th>\n",
              "      <td>1.691662e+10</td>\n",
              "      <td>34831.724018</td>\n",
              "      <td>7.962667</td>\n",
              "      <td>4.643746e+04</td>\n",
              "    </tr>\n",
              "    <tr>\n",
              "      <th>min</th>\n",
              "      <td>2.013072e+14</td>\n",
              "      <td>0.000000</td>\n",
              "      <td>999.000000</td>\n",
              "      <td>1.200000e+02</td>\n",
              "    </tr>\n",
              "    <tr>\n",
              "      <th>25%</th>\n",
              "      <td>2.020090e+14</td>\n",
              "      <td>10481.000000</td>\n",
              "      <td>2013.000000</td>\n",
              "      <td>7.495000e+03</td>\n",
              "    </tr>\n",
              "    <tr>\n",
              "      <th>50%</th>\n",
              "      <td>2.020093e+14</td>\n",
              "      <td>28629.500000</td>\n",
              "      <td>2016.000000</td>\n",
              "      <td>1.260000e+04</td>\n",
              "    </tr>\n",
              "    <tr>\n",
              "      <th>75%</th>\n",
              "      <td>2.020102e+14</td>\n",
              "      <td>56875.750000</td>\n",
              "      <td>2018.000000</td>\n",
              "      <td>2.000000e+04</td>\n",
              "    </tr>\n",
              "    <tr>\n",
              "      <th>max</th>\n",
              "      <td>2.020110e+14</td>\n",
              "      <td>999999.000000</td>\n",
              "      <td>2020.000000</td>\n",
              "      <td>9.999999e+06</td>\n",
              "    </tr>\n",
              "  </tbody>\n",
              "</table>\n",
              "</div>"
            ],
            "text/plain": [
              "       public_reference        mileage  year_of_registration         price\n",
              "count      4.020050e+05  401878.000000         368694.000000  4.020050e+05\n",
              "mean       2.020071e+14   37743.595656           2015.006206  1.734197e+04\n",
              "std        1.691662e+10   34831.724018              7.962667  4.643746e+04\n",
              "min        2.013072e+14       0.000000            999.000000  1.200000e+02\n",
              "25%        2.020090e+14   10481.000000           2013.000000  7.495000e+03\n",
              "50%        2.020093e+14   28629.500000           2016.000000  1.260000e+04\n",
              "75%        2.020102e+14   56875.750000           2018.000000  2.000000e+04\n",
              "max        2.020110e+14  999999.000000           2020.000000  9.999999e+06"
            ]
          },
          "execution_count": 20,
          "metadata": {},
          "output_type": "execute_result"
        }
      ],
      "source": [
        "# Get basic statistics of the numerical columns\n",
        "df.describe()"
      ]
    },
    {
      "cell_type": "code",
      "execution_count": 21,
      "metadata": {
        "colab": {
          "base_uri": "https://localhost:8080/"
        },
        "id": "SFdgmHFKEpbz",
        "outputId": "9b4e425d-9446-4fbb-b69f-19f561595f71"
      },
      "outputs": [
        {
          "name": "stdout",
          "output_type": "stream",
          "text": [
            "public_reference             0\n",
            "mileage                    127\n",
            "reg_code                 31857\n",
            "standard_colour           5378\n",
            "standard_make                0\n",
            "standard_model               0\n",
            "vehicle_condition            0\n",
            "year_of_registration     33311\n",
            "price                        0\n",
            "body_type                  837\n",
            "crossover_car_and_van        0\n",
            "fuel_type                  601\n",
            "dtype: int64\n"
          ]
        }
      ],
      "source": [
        "# Check for missing values\n",
        "print(df.isna().sum())"
      ]
    },
    {
      "cell_type": "code",
      "execution_count": 22,
      "metadata": {
        "colab": {
          "base_uri": "https://localhost:8080/"
        },
        "id": "j89XGGsRifQx",
        "outputId": "a5ef6a2a-930a-4651-c299-27d27968121d"
      },
      "outputs": [
        {
          "data": {
            "text/plain": [
              "public_reference            0\n",
              "mileage                   127\n",
              "reg_code                31857\n",
              "standard_colour          5378\n",
              "standard_make               0\n",
              "standard_model              0\n",
              "vehicle_condition           0\n",
              "year_of_registration    33311\n",
              "price                       0\n",
              "body_type                 837\n",
              "dtype: int64"
            ]
          },
          "execution_count": 22,
          "metadata": {},
          "output_type": "execute_result"
        }
      ],
      "source": [
        "# get the number of missing data points per column\n",
        "missing_values_count = df.isnull().sum()\n",
        "\n",
        "# look at the # of missing points in the first ten columns\n",
        "missing_values_count[0:10]"
      ]
    },
    {
      "cell_type": "code",
      "execution_count": null,
      "metadata": {},
      "outputs": [
        {
          "data": {
            "text/plain": [
              "public_reference         0.000000\n",
              "mileage                  0.031592\n",
              "reg_code                 7.924528\n",
              "standard_colour          1.337794\n",
              "standard_make            0.000000\n",
              "standard_model           0.000000\n",
              "vehicle_condition        0.000000\n",
              "year_of_registration     8.286215\n",
              "price                    0.000000\n",
              "body_type                0.208206\n",
              "crossover_car_and_van    0.000000\n",
              "fuel_type                0.149501\n",
              "dtype: float64"
            ]
          },
          "execution_count": 15,
          "metadata": {},
          "output_type": "execute_result"
        }
      ],
      "source": [
        "df.isnull().sum()*100/len(df)"
      ]
    },
    {
      "cell_type": "code",
      "execution_count": 25,
      "metadata": {
        "colab": {
          "base_uri": "https://localhost:8080/",
          "height": 210
        },
        "id": "JGcPpcpuHxlh",
        "outputId": "e5de2460-77e5-4d5c-d96f-47f97e51db21"
      },
      "outputs": [],
      "source": [
        "# Fill missing values with a specific value\n",
        "mean = df[\"mileage\"].mean()\n",
        "df[\"mileage\"] = df[\"mileage\"].fillna(mean)\n"
      ]
    },
    {
      "cell_type": "code",
      "execution_count": 26,
      "metadata": {
        "colab": {
          "base_uri": "https://localhost:8080/"
        },
        "id": "gm1AFwCbWCyc",
        "outputId": "78e88372-649f-4c23-9640-89d9841f05fa"
      },
      "outputs": [
        {
          "name": "stdout",
          "output_type": "stream",
          "text": [
            "public_reference             0\n",
            "mileage                      0\n",
            "reg_code                 31857\n",
            "standard_colour           5378\n",
            "standard_make                0\n",
            "standard_model               0\n",
            "vehicle_condition            0\n",
            "year_of_registration     33311\n",
            "price                        0\n",
            "body_type                  837\n",
            "crossover_car_and_van        0\n",
            "fuel_type                  601\n",
            "dtype: int64\n"
          ]
        }
      ],
      "source": [
        "# Check for missing values\n",
        "print(df.isna().sum())"
      ]
    },
    {
      "cell_type": "code",
      "execution_count": 27,
      "metadata": {
        "colab": {
          "base_uri": "https://localhost:8080/",
          "height": 278
        },
        "id": "f0UcLxRZWIGx",
        "outputId": "41deb931-b052-44cd-a3da-a8a7bce14aff"
      },
      "outputs": [
        {
          "data": {
            "text/html": [
              "<div>\n",
              "<style scoped>\n",
              "    .dataframe tbody tr th:only-of-type {\n",
              "        vertical-align: middle;\n",
              "    }\n",
              "\n",
              "    .dataframe tbody tr th {\n",
              "        vertical-align: top;\n",
              "    }\n",
              "\n",
              "    .dataframe thead th {\n",
              "        text-align: right;\n",
              "    }\n",
              "</style>\n",
              "<table border=\"1\" class=\"dataframe\">\n",
              "  <thead>\n",
              "    <tr style=\"text-align: right;\">\n",
              "      <th></th>\n",
              "      <th>public_reference</th>\n",
              "      <th>mileage</th>\n",
              "      <th>reg_code</th>\n",
              "      <th>standard_colour</th>\n",
              "      <th>standard_make</th>\n",
              "      <th>standard_model</th>\n",
              "      <th>vehicle_condition</th>\n",
              "      <th>year_of_registration</th>\n",
              "      <th>price</th>\n",
              "      <th>body_type</th>\n",
              "      <th>crossover_car_and_van</th>\n",
              "      <th>fuel_type</th>\n",
              "    </tr>\n",
              "  </thead>\n",
              "  <tbody>\n",
              "    <tr>\n",
              "      <th>0</th>\n",
              "      <td>202006039777689</td>\n",
              "      <td>0.0</td>\n",
              "      <td>NaN</td>\n",
              "      <td>Grey</td>\n",
              "      <td>Volvo</td>\n",
              "      <td>XC90</td>\n",
              "      <td>NEW</td>\n",
              "      <td>NaN</td>\n",
              "      <td>73970</td>\n",
              "      <td>SUV</td>\n",
              "      <td>False</td>\n",
              "      <td>Petrol Plug-in Hybrid</td>\n",
              "    </tr>\n",
              "    <tr>\n",
              "      <th>1</th>\n",
              "      <td>202007020778260</td>\n",
              "      <td>108230.0</td>\n",
              "      <td>61</td>\n",
              "      <td>Blue</td>\n",
              "      <td>Jaguar</td>\n",
              "      <td>XF</td>\n",
              "      <td>USED</td>\n",
              "      <td>2011.0</td>\n",
              "      <td>7000</td>\n",
              "      <td>Saloon</td>\n",
              "      <td>False</td>\n",
              "      <td>Diesel</td>\n",
              "    </tr>\n",
              "    <tr>\n",
              "      <th>2</th>\n",
              "      <td>202007020778474</td>\n",
              "      <td>7800.0</td>\n",
              "      <td>17</td>\n",
              "      <td>Grey</td>\n",
              "      <td>SKODA</td>\n",
              "      <td>Yeti</td>\n",
              "      <td>USED</td>\n",
              "      <td>2017.0</td>\n",
              "      <td>14000</td>\n",
              "      <td>SUV</td>\n",
              "      <td>False</td>\n",
              "      <td>Petrol</td>\n",
              "    </tr>\n",
              "    <tr>\n",
              "      <th>3</th>\n",
              "      <td>202007080986776</td>\n",
              "      <td>45000.0</td>\n",
              "      <td>16</td>\n",
              "      <td>Brown</td>\n",
              "      <td>Vauxhall</td>\n",
              "      <td>Mokka</td>\n",
              "      <td>USED</td>\n",
              "      <td>2016.0</td>\n",
              "      <td>7995</td>\n",
              "      <td>Hatchback</td>\n",
              "      <td>False</td>\n",
              "      <td>Diesel</td>\n",
              "    </tr>\n",
              "    <tr>\n",
              "      <th>4</th>\n",
              "      <td>202007161321269</td>\n",
              "      <td>64000.0</td>\n",
              "      <td>64</td>\n",
              "      <td>Grey</td>\n",
              "      <td>Land Rover</td>\n",
              "      <td>Range Rover Sport</td>\n",
              "      <td>USED</td>\n",
              "      <td>2015.0</td>\n",
              "      <td>26995</td>\n",
              "      <td>SUV</td>\n",
              "      <td>False</td>\n",
              "      <td>Diesel</td>\n",
              "    </tr>\n",
              "  </tbody>\n",
              "</table>\n",
              "</div>"
            ],
            "text/plain": [
              "   public_reference   mileage reg_code standard_colour standard_make  \\\n",
              "0   202006039777689       0.0      NaN            Grey         Volvo   \n",
              "1   202007020778260  108230.0       61            Blue        Jaguar   \n",
              "2   202007020778474    7800.0       17            Grey         SKODA   \n",
              "3   202007080986776   45000.0       16           Brown      Vauxhall   \n",
              "4   202007161321269   64000.0       64            Grey    Land Rover   \n",
              "\n",
              "      standard_model vehicle_condition  year_of_registration  price  \\\n",
              "0               XC90               NEW                   NaN  73970   \n",
              "1                 XF              USED                2011.0   7000   \n",
              "2               Yeti              USED                2017.0  14000   \n",
              "3              Mokka              USED                2016.0   7995   \n",
              "4  Range Rover Sport              USED                2015.0  26995   \n",
              "\n",
              "   body_type  crossover_car_and_van              fuel_type  \n",
              "0        SUV                  False  Petrol Plug-in Hybrid  \n",
              "1     Saloon                  False                 Diesel  \n",
              "2        SUV                  False                 Petrol  \n",
              "3  Hatchback                  False                 Diesel  \n",
              "4        SUV                  False                 Diesel  "
            ]
          },
          "execution_count": 27,
          "metadata": {},
          "output_type": "execute_result"
        }
      ],
      "source": [
        "df.head()"
      ]
    },
    {
      "cell_type": "code",
      "execution_count": 28,
      "metadata": {
        "id": "oqIEo_8MWUyV"
      },
      "outputs": [],
      "source": [
        "# Remove duplicate rows using the drop_duplicates() method.\n",
        "df = df.drop_duplicates()"
      ]
    },
    {
      "cell_type": "code",
      "execution_count": 29,
      "metadata": {
        "colab": {
          "base_uri": "https://localhost:8080/"
        },
        "id": "A_zdd68DXqBD",
        "outputId": "43483bc8-c973-41a9-ad3b-b4c2f92086c9"
      },
      "outputs": [
        {
          "name": "stdout",
          "output_type": "stream",
          "text": [
            "<class 'pandas.core.frame.DataFrame'>\n",
            "RangeIndex: 402005 entries, 0 to 402004\n",
            "Data columns (total 12 columns):\n",
            " #   Column                 Non-Null Count   Dtype  \n",
            "---  ------                 --------------   -----  \n",
            " 0   public_reference       402005 non-null  int64  \n",
            " 1   mileage                402005 non-null  float64\n",
            " 2   reg_code               370148 non-null  object \n",
            " 3   standard_colour        396627 non-null  object \n",
            " 4   standard_make          402005 non-null  object \n",
            " 5   standard_model         402005 non-null  object \n",
            " 6   vehicle_condition      402005 non-null  object \n",
            " 7   year_of_registration   368694 non-null  float64\n",
            " 8   price                  402005 non-null  int64  \n",
            " 9   body_type              401168 non-null  object \n",
            " 10  crossover_car_and_van  402005 non-null  bool   \n",
            " 11  fuel_type              401404 non-null  object \n",
            "dtypes: bool(1), float64(2), int64(2), object(7)\n",
            "memory usage: 34.1+ MB\n"
          ]
        }
      ],
      "source": [
        "df.info()"
      ]
    },
    {
      "cell_type": "code",
      "execution_count": 30,
      "metadata": {
        "colab": {
          "base_uri": "https://localhost:8080/",
          "height": 495
        },
        "id": "Xbbhtcu7vACb",
        "outputId": "4bf7431e-5fbc-448b-8f65-9c1c9b5965da"
      },
      "outputs": [
        {
          "data": {
            "text/html": [
              "<div>\n",
              "<style scoped>\n",
              "    .dataframe tbody tr th:only-of-type {\n",
              "        vertical-align: middle;\n",
              "    }\n",
              "\n",
              "    .dataframe tbody tr th {\n",
              "        vertical-align: top;\n",
              "    }\n",
              "\n",
              "    .dataframe thead th {\n",
              "        text-align: right;\n",
              "    }\n",
              "</style>\n",
              "<table border=\"1\" class=\"dataframe\">\n",
              "  <thead>\n",
              "    <tr style=\"text-align: right;\">\n",
              "      <th></th>\n",
              "      <th>public_reference</th>\n",
              "      <th>mileage</th>\n",
              "      <th>reg_code</th>\n",
              "      <th>standard_colour</th>\n",
              "      <th>standard_make</th>\n",
              "      <th>standard_model</th>\n",
              "      <th>vehicle_condition</th>\n",
              "      <th>year_of_registration</th>\n",
              "      <th>price</th>\n",
              "      <th>body_type</th>\n",
              "      <th>crossover_car_and_van</th>\n",
              "      <th>fuel_type</th>\n",
              "    </tr>\n",
              "  </thead>\n",
              "  <tbody>\n",
              "    <tr>\n",
              "      <th>0</th>\n",
              "      <td>202006039777689</td>\n",
              "      <td>0.0</td>\n",
              "      <td>NaN</td>\n",
              "      <td>Grey</td>\n",
              "      <td>Volvo</td>\n",
              "      <td>XC90</td>\n",
              "      <td>NEW</td>\n",
              "      <td>NaN</td>\n",
              "      <td>73970</td>\n",
              "      <td>SUV</td>\n",
              "      <td>False</td>\n",
              "      <td>Petrol Plug-in Hybrid</td>\n",
              "    </tr>\n",
              "    <tr>\n",
              "      <th>17</th>\n",
              "      <td>201911043995897</td>\n",
              "      <td>5.0</td>\n",
              "      <td>NaN</td>\n",
              "      <td>NaN</td>\n",
              "      <td>Nissan</td>\n",
              "      <td>X-Trail</td>\n",
              "      <td>NEW</td>\n",
              "      <td>NaN</td>\n",
              "      <td>27595</td>\n",
              "      <td>SUV</td>\n",
              "      <td>False</td>\n",
              "      <td>Diesel</td>\n",
              "    </tr>\n",
              "    <tr>\n",
              "      <th>19</th>\n",
              "      <td>202008272998331</td>\n",
              "      <td>0.0</td>\n",
              "      <td>NaN</td>\n",
              "      <td>White</td>\n",
              "      <td>Volkswagen</td>\n",
              "      <td>T-Cross</td>\n",
              "      <td>NEW</td>\n",
              "      <td>NaN</td>\n",
              "      <td>25000</td>\n",
              "      <td>SUV</td>\n",
              "      <td>False</td>\n",
              "      <td>Petrol</td>\n",
              "    </tr>\n",
              "    <tr>\n",
              "      <th>37</th>\n",
              "      <td>202001306737473</td>\n",
              "      <td>0.0</td>\n",
              "      <td>NaN</td>\n",
              "      <td>White</td>\n",
              "      <td>Fiat</td>\n",
              "      <td>Panda</td>\n",
              "      <td>NEW</td>\n",
              "      <td>NaN</td>\n",
              "      <td>13999</td>\n",
              "      <td>Hatchback</td>\n",
              "      <td>False</td>\n",
              "      <td>Petrol</td>\n",
              "    </tr>\n",
              "    <tr>\n",
              "      <th>44</th>\n",
              "      <td>202003178531910</td>\n",
              "      <td>0.0</td>\n",
              "      <td>NaN</td>\n",
              "      <td>NaN</td>\n",
              "      <td>Honda</td>\n",
              "      <td>Civic</td>\n",
              "      <td>NEW</td>\n",
              "      <td>NaN</td>\n",
              "      <td>19495</td>\n",
              "      <td>Hatchback</td>\n",
              "      <td>False</td>\n",
              "      <td>Petrol</td>\n",
              "    </tr>\n",
              "    <tr>\n",
              "      <th>...</th>\n",
              "      <td>...</td>\n",
              "      <td>...</td>\n",
              "      <td>...</td>\n",
              "      <td>...</td>\n",
              "      <td>...</td>\n",
              "      <td>...</td>\n",
              "      <td>...</td>\n",
              "      <td>...</td>\n",
              "      <td>...</td>\n",
              "      <td>...</td>\n",
              "      <td>...</td>\n",
              "      <td>...</td>\n",
              "    </tr>\n",
              "    <tr>\n",
              "      <th>401860</th>\n",
              "      <td>202010024501227</td>\n",
              "      <td>10.0</td>\n",
              "      <td>NaN</td>\n",
              "      <td>Silver</td>\n",
              "      <td>Mitsubishi</td>\n",
              "      <td>Shogun Sport</td>\n",
              "      <td>NEW</td>\n",
              "      <td>NaN</td>\n",
              "      <td>31999</td>\n",
              "      <td>SUV</td>\n",
              "      <td>False</td>\n",
              "      <td>Diesel</td>\n",
              "    </tr>\n",
              "    <tr>\n",
              "      <th>401890</th>\n",
              "      <td>202010104843364</td>\n",
              "      <td>5.0</td>\n",
              "      <td>NaN</td>\n",
              "      <td>Red</td>\n",
              "      <td>BMW</td>\n",
              "      <td>Z4</td>\n",
              "      <td>NEW</td>\n",
              "      <td>NaN</td>\n",
              "      <td>47910</td>\n",
              "      <td>Convertible</td>\n",
              "      <td>False</td>\n",
              "      <td>Petrol</td>\n",
              "    </tr>\n",
              "    <tr>\n",
              "      <th>401902</th>\n",
              "      <td>202010134960554</td>\n",
              "      <td>10.0</td>\n",
              "      <td>NaN</td>\n",
              "      <td>White</td>\n",
              "      <td>BMW</td>\n",
              "      <td>3 Series</td>\n",
              "      <td>NEW</td>\n",
              "      <td>NaN</td>\n",
              "      <td>35023</td>\n",
              "      <td>Saloon</td>\n",
              "      <td>False</td>\n",
              "      <td>Petrol</td>\n",
              "    </tr>\n",
              "    <tr>\n",
              "      <th>401905</th>\n",
              "      <td>202010144983518</td>\n",
              "      <td>0.0</td>\n",
              "      <td>NaN</td>\n",
              "      <td>Red</td>\n",
              "      <td>Land Rover</td>\n",
              "      <td>Range Rover Evoque</td>\n",
              "      <td>NEW</td>\n",
              "      <td>NaN</td>\n",
              "      <td>44995</td>\n",
              "      <td>SUV</td>\n",
              "      <td>False</td>\n",
              "      <td>Petrol</td>\n",
              "    </tr>\n",
              "    <tr>\n",
              "      <th>401971</th>\n",
              "      <td>202010285515882</td>\n",
              "      <td>10.0</td>\n",
              "      <td>NaN</td>\n",
              "      <td>Grey</td>\n",
              "      <td>Nissan</td>\n",
              "      <td>Leaf</td>\n",
              "      <td>NEW</td>\n",
              "      <td>NaN</td>\n",
              "      <td>28820</td>\n",
              "      <td>Hatchback</td>\n",
              "      <td>False</td>\n",
              "      <td>Electric</td>\n",
              "    </tr>\n",
              "  </tbody>\n",
              "</table>\n",
              "<p>31249 rows × 12 columns</p>\n",
              "</div>"
            ],
            "text/plain": [
              "        public_reference  mileage reg_code standard_colour standard_make  \\\n",
              "0        202006039777689      0.0      NaN            Grey         Volvo   \n",
              "17       201911043995897      5.0      NaN             NaN        Nissan   \n",
              "19       202008272998331      0.0      NaN           White    Volkswagen   \n",
              "37       202001306737473      0.0      NaN           White          Fiat   \n",
              "44       202003178531910      0.0      NaN             NaN         Honda   \n",
              "...                  ...      ...      ...             ...           ...   \n",
              "401860   202010024501227     10.0      NaN          Silver    Mitsubishi   \n",
              "401890   202010104843364      5.0      NaN             Red           BMW   \n",
              "401902   202010134960554     10.0      NaN           White           BMW   \n",
              "401905   202010144983518      0.0      NaN             Red    Land Rover   \n",
              "401971   202010285515882     10.0      NaN            Grey        Nissan   \n",
              "\n",
              "            standard_model vehicle_condition  year_of_registration  price  \\\n",
              "0                     XC90               NEW                   NaN  73970   \n",
              "17                 X-Trail               NEW                   NaN  27595   \n",
              "19                 T-Cross               NEW                   NaN  25000   \n",
              "37                   Panda               NEW                   NaN  13999   \n",
              "44                   Civic               NEW                   NaN  19495   \n",
              "...                    ...               ...                   ...    ...   \n",
              "401860        Shogun Sport               NEW                   NaN  31999   \n",
              "401890                  Z4               NEW                   NaN  47910   \n",
              "401902            3 Series               NEW                   NaN  35023   \n",
              "401905  Range Rover Evoque               NEW                   NaN  44995   \n",
              "401971                Leaf               NEW                   NaN  28820   \n",
              "\n",
              "          body_type  crossover_car_and_van              fuel_type  \n",
              "0               SUV                  False  Petrol Plug-in Hybrid  \n",
              "17              SUV                  False                 Diesel  \n",
              "19              SUV                  False                 Petrol  \n",
              "37        Hatchback                  False                 Petrol  \n",
              "44        Hatchback                  False                 Petrol  \n",
              "...             ...                    ...                    ...  \n",
              "401860          SUV                  False                 Diesel  \n",
              "401890  Convertible                  False                 Petrol  \n",
              "401902       Saloon                  False                 Petrol  \n",
              "401905          SUV                  False                 Petrol  \n",
              "401971    Hatchback                  False               Electric  \n",
              "\n",
              "[31249 rows x 12 columns]"
            ]
          },
          "execution_count": 30,
          "metadata": {},
          "output_type": "execute_result"
        }
      ],
      "source": [
        "df[df['vehicle_condition'] == 'NEW']"
      ]
    },
    {
      "cell_type": "code",
      "execution_count": 31,
      "metadata": {
        "colab": {
          "base_uri": "https://localhost:8080/",
          "height": 495
        },
        "id": "kXT0eLo0wPEN",
        "outputId": "096b3adc-fbab-46ea-b742-6f0a6555413c"
      },
      "outputs": [
        {
          "name": "stderr",
          "output_type": "stream",
          "text": [
            "C:\\Users\\User\\AppData\\Local\\Temp\\ipykernel_16064\\3988041702.py:1: FutureWarning: DataFrame.fillna with 'method' is deprecated and will raise in a future version. Use obj.ffill() or obj.bfill() instead.\n",
            "  df.fillna(method = \"bfill\")\n"
          ]
        },
        {
          "data": {
            "text/html": [
              "<div>\n",
              "<style scoped>\n",
              "    .dataframe tbody tr th:only-of-type {\n",
              "        vertical-align: middle;\n",
              "    }\n",
              "\n",
              "    .dataframe tbody tr th {\n",
              "        vertical-align: top;\n",
              "    }\n",
              "\n",
              "    .dataframe thead th {\n",
              "        text-align: right;\n",
              "    }\n",
              "</style>\n",
              "<table border=\"1\" class=\"dataframe\">\n",
              "  <thead>\n",
              "    <tr style=\"text-align: right;\">\n",
              "      <th></th>\n",
              "      <th>public_reference</th>\n",
              "      <th>mileage</th>\n",
              "      <th>reg_code</th>\n",
              "      <th>standard_colour</th>\n",
              "      <th>standard_make</th>\n",
              "      <th>standard_model</th>\n",
              "      <th>vehicle_condition</th>\n",
              "      <th>year_of_registration</th>\n",
              "      <th>price</th>\n",
              "      <th>body_type</th>\n",
              "      <th>crossover_car_and_van</th>\n",
              "      <th>fuel_type</th>\n",
              "    </tr>\n",
              "  </thead>\n",
              "  <tbody>\n",
              "    <tr>\n",
              "      <th>0</th>\n",
              "      <td>202006039777689</td>\n",
              "      <td>0.0</td>\n",
              "      <td>61</td>\n",
              "      <td>Grey</td>\n",
              "      <td>Volvo</td>\n",
              "      <td>XC90</td>\n",
              "      <td>NEW</td>\n",
              "      <td>2011.0</td>\n",
              "      <td>73970</td>\n",
              "      <td>SUV</td>\n",
              "      <td>False</td>\n",
              "      <td>Petrol Plug-in Hybrid</td>\n",
              "    </tr>\n",
              "    <tr>\n",
              "      <th>1</th>\n",
              "      <td>202007020778260</td>\n",
              "      <td>108230.0</td>\n",
              "      <td>61</td>\n",
              "      <td>Blue</td>\n",
              "      <td>Jaguar</td>\n",
              "      <td>XF</td>\n",
              "      <td>USED</td>\n",
              "      <td>2011.0</td>\n",
              "      <td>7000</td>\n",
              "      <td>Saloon</td>\n",
              "      <td>False</td>\n",
              "      <td>Diesel</td>\n",
              "    </tr>\n",
              "    <tr>\n",
              "      <th>2</th>\n",
              "      <td>202007020778474</td>\n",
              "      <td>7800.0</td>\n",
              "      <td>17</td>\n",
              "      <td>Grey</td>\n",
              "      <td>SKODA</td>\n",
              "      <td>Yeti</td>\n",
              "      <td>USED</td>\n",
              "      <td>2017.0</td>\n",
              "      <td>14000</td>\n",
              "      <td>SUV</td>\n",
              "      <td>False</td>\n",
              "      <td>Petrol</td>\n",
              "    </tr>\n",
              "    <tr>\n",
              "      <th>3</th>\n",
              "      <td>202007080986776</td>\n",
              "      <td>45000.0</td>\n",
              "      <td>16</td>\n",
              "      <td>Brown</td>\n",
              "      <td>Vauxhall</td>\n",
              "      <td>Mokka</td>\n",
              "      <td>USED</td>\n",
              "      <td>2016.0</td>\n",
              "      <td>7995</td>\n",
              "      <td>Hatchback</td>\n",
              "      <td>False</td>\n",
              "      <td>Diesel</td>\n",
              "    </tr>\n",
              "    <tr>\n",
              "      <th>4</th>\n",
              "      <td>202007161321269</td>\n",
              "      <td>64000.0</td>\n",
              "      <td>64</td>\n",
              "      <td>Grey</td>\n",
              "      <td>Land Rover</td>\n",
              "      <td>Range Rover Sport</td>\n",
              "      <td>USED</td>\n",
              "      <td>2015.0</td>\n",
              "      <td>26995</td>\n",
              "      <td>SUV</td>\n",
              "      <td>False</td>\n",
              "      <td>Diesel</td>\n",
              "    </tr>\n",
              "    <tr>\n",
              "      <th>...</th>\n",
              "      <td>...</td>\n",
              "      <td>...</td>\n",
              "      <td>...</td>\n",
              "      <td>...</td>\n",
              "      <td>...</td>\n",
              "      <td>...</td>\n",
              "      <td>...</td>\n",
              "      <td>...</td>\n",
              "      <td>...</td>\n",
              "      <td>...</td>\n",
              "      <td>...</td>\n",
              "      <td>...</td>\n",
              "    </tr>\n",
              "    <tr>\n",
              "      <th>402000</th>\n",
              "      <td>202010315652942</td>\n",
              "      <td>5179.0</td>\n",
              "      <td>69</td>\n",
              "      <td>Grey</td>\n",
              "      <td>Peugeot</td>\n",
              "      <td>208</td>\n",
              "      <td>USED</td>\n",
              "      <td>2019.0</td>\n",
              "      <td>10595</td>\n",
              "      <td>Hatchback</td>\n",
              "      <td>False</td>\n",
              "      <td>Petrol</td>\n",
              "    </tr>\n",
              "    <tr>\n",
              "      <th>402001</th>\n",
              "      <td>202010315657341</td>\n",
              "      <td>110000.0</td>\n",
              "      <td>59</td>\n",
              "      <td>Red</td>\n",
              "      <td>Peugeot</td>\n",
              "      <td>107</td>\n",
              "      <td>USED</td>\n",
              "      <td>2009.0</td>\n",
              "      <td>2000</td>\n",
              "      <td>Hatchback</td>\n",
              "      <td>False</td>\n",
              "      <td>Petrol</td>\n",
              "    </tr>\n",
              "    <tr>\n",
              "      <th>402002</th>\n",
              "      <td>202010315659271</td>\n",
              "      <td>52760.0</td>\n",
              "      <td>62</td>\n",
              "      <td>White</td>\n",
              "      <td>Nissan</td>\n",
              "      <td>Qashqai</td>\n",
              "      <td>USED</td>\n",
              "      <td>2012.0</td>\n",
              "      <td>7250</td>\n",
              "      <td>SUV</td>\n",
              "      <td>False</td>\n",
              "      <td>Petrol</td>\n",
              "    </tr>\n",
              "    <tr>\n",
              "      <th>402003</th>\n",
              "      <td>202011015662436</td>\n",
              "      <td>10250.0</td>\n",
              "      <td>65</td>\n",
              "      <td>Red</td>\n",
              "      <td>Abarth</td>\n",
              "      <td>595</td>\n",
              "      <td>USED</td>\n",
              "      <td>2015.0</td>\n",
              "      <td>11490</td>\n",
              "      <td>Hatchback</td>\n",
              "      <td>False</td>\n",
              "      <td>Petrol</td>\n",
              "    </tr>\n",
              "    <tr>\n",
              "      <th>402004</th>\n",
              "      <td>201512149444029</td>\n",
              "      <td>14000.0</td>\n",
              "      <td>14</td>\n",
              "      <td>Silver</td>\n",
              "      <td>Audi</td>\n",
              "      <td>A4 Avant</td>\n",
              "      <td>USED</td>\n",
              "      <td>2014.0</td>\n",
              "      <td>20520</td>\n",
              "      <td>Estate</td>\n",
              "      <td>False</td>\n",
              "      <td>Diesel</td>\n",
              "    </tr>\n",
              "  </tbody>\n",
              "</table>\n",
              "<p>402005 rows × 12 columns</p>\n",
              "</div>"
            ],
            "text/plain": [
              "        public_reference   mileage reg_code standard_colour standard_make  \\\n",
              "0        202006039777689       0.0       61            Grey         Volvo   \n",
              "1        202007020778260  108230.0       61            Blue        Jaguar   \n",
              "2        202007020778474    7800.0       17            Grey         SKODA   \n",
              "3        202007080986776   45000.0       16           Brown      Vauxhall   \n",
              "4        202007161321269   64000.0       64            Grey    Land Rover   \n",
              "...                  ...       ...      ...             ...           ...   \n",
              "402000   202010315652942    5179.0       69            Grey       Peugeot   \n",
              "402001   202010315657341  110000.0       59             Red       Peugeot   \n",
              "402002   202010315659271   52760.0       62           White        Nissan   \n",
              "402003   202011015662436   10250.0       65             Red        Abarth   \n",
              "402004   201512149444029   14000.0       14          Silver          Audi   \n",
              "\n",
              "           standard_model vehicle_condition  year_of_registration  price  \\\n",
              "0                    XC90               NEW                2011.0  73970   \n",
              "1                      XF              USED                2011.0   7000   \n",
              "2                    Yeti              USED                2017.0  14000   \n",
              "3                   Mokka              USED                2016.0   7995   \n",
              "4       Range Rover Sport              USED                2015.0  26995   \n",
              "...                   ...               ...                   ...    ...   \n",
              "402000                208              USED                2019.0  10595   \n",
              "402001                107              USED                2009.0   2000   \n",
              "402002            Qashqai              USED                2012.0   7250   \n",
              "402003                595              USED                2015.0  11490   \n",
              "402004           A4 Avant              USED                2014.0  20520   \n",
              "\n",
              "        body_type  crossover_car_and_van              fuel_type  \n",
              "0             SUV                  False  Petrol Plug-in Hybrid  \n",
              "1          Saloon                  False                 Diesel  \n",
              "2             SUV                  False                 Petrol  \n",
              "3       Hatchback                  False                 Diesel  \n",
              "4             SUV                  False                 Diesel  \n",
              "...           ...                    ...                    ...  \n",
              "402000  Hatchback                  False                 Petrol  \n",
              "402001  Hatchback                  False                 Petrol  \n",
              "402002        SUV                  False                 Petrol  \n",
              "402003  Hatchback                  False                 Petrol  \n",
              "402004     Estate                  False                 Diesel  \n",
              "\n",
              "[402005 rows x 12 columns]"
            ]
          },
          "execution_count": 31,
          "metadata": {},
          "output_type": "execute_result"
        }
      ],
      "source": [
        "df.fillna(method = \"bfill\")"
      ]
    },
    {
      "cell_type": "code",
      "execution_count": 32,
      "metadata": {
        "colab": {
          "base_uri": "https://localhost:8080/",
          "height": 495
        },
        "id": "b0mHLlh7xvpI",
        "outputId": "2304fb72-ddc2-40b5-8f3e-e39e1c17fc85"
      },
      "outputs": [
        {
          "data": {
            "text/html": [
              "<div>\n",
              "<style scoped>\n",
              "    .dataframe tbody tr th:only-of-type {\n",
              "        vertical-align: middle;\n",
              "    }\n",
              "\n",
              "    .dataframe tbody tr th {\n",
              "        vertical-align: top;\n",
              "    }\n",
              "\n",
              "    .dataframe thead th {\n",
              "        text-align: right;\n",
              "    }\n",
              "</style>\n",
              "<table border=\"1\" class=\"dataframe\">\n",
              "  <thead>\n",
              "    <tr style=\"text-align: right;\">\n",
              "      <th></th>\n",
              "      <th>public_reference</th>\n",
              "      <th>mileage</th>\n",
              "      <th>reg_code</th>\n",
              "      <th>standard_colour</th>\n",
              "      <th>standard_make</th>\n",
              "      <th>standard_model</th>\n",
              "      <th>vehicle_condition</th>\n",
              "      <th>year_of_registration</th>\n",
              "      <th>price</th>\n",
              "      <th>body_type</th>\n",
              "      <th>crossover_car_and_van</th>\n",
              "      <th>fuel_type</th>\n",
              "    </tr>\n",
              "  </thead>\n",
              "  <tbody>\n",
              "    <tr>\n",
              "      <th>0</th>\n",
              "      <td>202006039777689</td>\n",
              "      <td>0.0</td>\n",
              "      <td>NaN</td>\n",
              "      <td>Grey</td>\n",
              "      <td>Volvo</td>\n",
              "      <td>XC90</td>\n",
              "      <td>NEW</td>\n",
              "      <td>NaN</td>\n",
              "      <td>73970</td>\n",
              "      <td>SUV</td>\n",
              "      <td>False</td>\n",
              "      <td>Petrol Plug-in Hybrid</td>\n",
              "    </tr>\n",
              "    <tr>\n",
              "      <th>17</th>\n",
              "      <td>201911043995897</td>\n",
              "      <td>5.0</td>\n",
              "      <td>NaN</td>\n",
              "      <td>NaN</td>\n",
              "      <td>Nissan</td>\n",
              "      <td>X-Trail</td>\n",
              "      <td>NEW</td>\n",
              "      <td>NaN</td>\n",
              "      <td>27595</td>\n",
              "      <td>SUV</td>\n",
              "      <td>False</td>\n",
              "      <td>Diesel</td>\n",
              "    </tr>\n",
              "    <tr>\n",
              "      <th>19</th>\n",
              "      <td>202008272998331</td>\n",
              "      <td>0.0</td>\n",
              "      <td>NaN</td>\n",
              "      <td>White</td>\n",
              "      <td>Volkswagen</td>\n",
              "      <td>T-Cross</td>\n",
              "      <td>NEW</td>\n",
              "      <td>NaN</td>\n",
              "      <td>25000</td>\n",
              "      <td>SUV</td>\n",
              "      <td>False</td>\n",
              "      <td>Petrol</td>\n",
              "    </tr>\n",
              "    <tr>\n",
              "      <th>37</th>\n",
              "      <td>202001306737473</td>\n",
              "      <td>0.0</td>\n",
              "      <td>NaN</td>\n",
              "      <td>White</td>\n",
              "      <td>Fiat</td>\n",
              "      <td>Panda</td>\n",
              "      <td>NEW</td>\n",
              "      <td>NaN</td>\n",
              "      <td>13999</td>\n",
              "      <td>Hatchback</td>\n",
              "      <td>False</td>\n",
              "      <td>Petrol</td>\n",
              "    </tr>\n",
              "    <tr>\n",
              "      <th>44</th>\n",
              "      <td>202003178531910</td>\n",
              "      <td>0.0</td>\n",
              "      <td>NaN</td>\n",
              "      <td>NaN</td>\n",
              "      <td>Honda</td>\n",
              "      <td>Civic</td>\n",
              "      <td>NEW</td>\n",
              "      <td>NaN</td>\n",
              "      <td>19495</td>\n",
              "      <td>Hatchback</td>\n",
              "      <td>False</td>\n",
              "      <td>Petrol</td>\n",
              "    </tr>\n",
              "    <tr>\n",
              "      <th>...</th>\n",
              "      <td>...</td>\n",
              "      <td>...</td>\n",
              "      <td>...</td>\n",
              "      <td>...</td>\n",
              "      <td>...</td>\n",
              "      <td>...</td>\n",
              "      <td>...</td>\n",
              "      <td>...</td>\n",
              "      <td>...</td>\n",
              "      <td>...</td>\n",
              "      <td>...</td>\n",
              "      <td>...</td>\n",
              "    </tr>\n",
              "    <tr>\n",
              "      <th>401860</th>\n",
              "      <td>202010024501227</td>\n",
              "      <td>10.0</td>\n",
              "      <td>NaN</td>\n",
              "      <td>Silver</td>\n",
              "      <td>Mitsubishi</td>\n",
              "      <td>Shogun Sport</td>\n",
              "      <td>NEW</td>\n",
              "      <td>NaN</td>\n",
              "      <td>31999</td>\n",
              "      <td>SUV</td>\n",
              "      <td>False</td>\n",
              "      <td>Diesel</td>\n",
              "    </tr>\n",
              "    <tr>\n",
              "      <th>401890</th>\n",
              "      <td>202010104843364</td>\n",
              "      <td>5.0</td>\n",
              "      <td>NaN</td>\n",
              "      <td>Red</td>\n",
              "      <td>BMW</td>\n",
              "      <td>Z4</td>\n",
              "      <td>NEW</td>\n",
              "      <td>NaN</td>\n",
              "      <td>47910</td>\n",
              "      <td>Convertible</td>\n",
              "      <td>False</td>\n",
              "      <td>Petrol</td>\n",
              "    </tr>\n",
              "    <tr>\n",
              "      <th>401902</th>\n",
              "      <td>202010134960554</td>\n",
              "      <td>10.0</td>\n",
              "      <td>NaN</td>\n",
              "      <td>White</td>\n",
              "      <td>BMW</td>\n",
              "      <td>3 Series</td>\n",
              "      <td>NEW</td>\n",
              "      <td>NaN</td>\n",
              "      <td>35023</td>\n",
              "      <td>Saloon</td>\n",
              "      <td>False</td>\n",
              "      <td>Petrol</td>\n",
              "    </tr>\n",
              "    <tr>\n",
              "      <th>401905</th>\n",
              "      <td>202010144983518</td>\n",
              "      <td>0.0</td>\n",
              "      <td>NaN</td>\n",
              "      <td>Red</td>\n",
              "      <td>Land Rover</td>\n",
              "      <td>Range Rover Evoque</td>\n",
              "      <td>NEW</td>\n",
              "      <td>NaN</td>\n",
              "      <td>44995</td>\n",
              "      <td>SUV</td>\n",
              "      <td>False</td>\n",
              "      <td>Petrol</td>\n",
              "    </tr>\n",
              "    <tr>\n",
              "      <th>401971</th>\n",
              "      <td>202010285515882</td>\n",
              "      <td>10.0</td>\n",
              "      <td>NaN</td>\n",
              "      <td>Grey</td>\n",
              "      <td>Nissan</td>\n",
              "      <td>Leaf</td>\n",
              "      <td>NEW</td>\n",
              "      <td>NaN</td>\n",
              "      <td>28820</td>\n",
              "      <td>Hatchback</td>\n",
              "      <td>False</td>\n",
              "      <td>Electric</td>\n",
              "    </tr>\n",
              "  </tbody>\n",
              "</table>\n",
              "<p>31249 rows × 12 columns</p>\n",
              "</div>"
            ],
            "text/plain": [
              "        public_reference  mileage reg_code standard_colour standard_make  \\\n",
              "0        202006039777689      0.0      NaN            Grey         Volvo   \n",
              "17       201911043995897      5.0      NaN             NaN        Nissan   \n",
              "19       202008272998331      0.0      NaN           White    Volkswagen   \n",
              "37       202001306737473      0.0      NaN           White          Fiat   \n",
              "44       202003178531910      0.0      NaN             NaN         Honda   \n",
              "...                  ...      ...      ...             ...           ...   \n",
              "401860   202010024501227     10.0      NaN          Silver    Mitsubishi   \n",
              "401890   202010104843364      5.0      NaN             Red           BMW   \n",
              "401902   202010134960554     10.0      NaN           White           BMW   \n",
              "401905   202010144983518      0.0      NaN             Red    Land Rover   \n",
              "401971   202010285515882     10.0      NaN            Grey        Nissan   \n",
              "\n",
              "            standard_model vehicle_condition  year_of_registration  price  \\\n",
              "0                     XC90               NEW                   NaN  73970   \n",
              "17                 X-Trail               NEW                   NaN  27595   \n",
              "19                 T-Cross               NEW                   NaN  25000   \n",
              "37                   Panda               NEW                   NaN  13999   \n",
              "44                   Civic               NEW                   NaN  19495   \n",
              "...                    ...               ...                   ...    ...   \n",
              "401860        Shogun Sport               NEW                   NaN  31999   \n",
              "401890                  Z4               NEW                   NaN  47910   \n",
              "401902            3 Series               NEW                   NaN  35023   \n",
              "401905  Range Rover Evoque               NEW                   NaN  44995   \n",
              "401971                Leaf               NEW                   NaN  28820   \n",
              "\n",
              "          body_type  crossover_car_and_van              fuel_type  \n",
              "0               SUV                  False  Petrol Plug-in Hybrid  \n",
              "17              SUV                  False                 Diesel  \n",
              "19              SUV                  False                 Petrol  \n",
              "37        Hatchback                  False                 Petrol  \n",
              "44        Hatchback                  False                 Petrol  \n",
              "...             ...                    ...                    ...  \n",
              "401860          SUV                  False                 Diesel  \n",
              "401890  Convertible                  False                 Petrol  \n",
              "401902       Saloon                  False                 Petrol  \n",
              "401905          SUV                  False                 Petrol  \n",
              "401971    Hatchback                  False               Electric  \n",
              "\n",
              "[31249 rows x 12 columns]"
            ]
          },
          "execution_count": 32,
          "metadata": {},
          "output_type": "execute_result"
        }
      ],
      "source": [
        "df[df['vehicle_condition'] == 'NEW']"
      ]
    },
    {
      "cell_type": "code",
      "execution_count": 33,
      "metadata": {
        "id": "946SpNdK6NcB"
      },
      "outputs": [],
      "source": [
        "df['reg_code'] = df['reg_code'].fillna(21)"
      ]
    },
    {
      "cell_type": "code",
      "execution_count": 34,
      "metadata": {
        "id": "cCSiJQwU7Udp"
      },
      "outputs": [],
      "source": [
        "df['year_of_registration'] = df['year_of_registration'].fillna(2021).astype(int)"
      ]
    },
    {
      "cell_type": "code",
      "execution_count": 35,
      "metadata": {
        "colab": {
          "base_uri": "https://localhost:8080/",
          "height": 495
        },
        "id": "7rZjeKdd6hf_",
        "outputId": "cb9f7e2a-0d4f-43ca-fab6-68e6499a2e54"
      },
      "outputs": [
        {
          "data": {
            "text/html": [
              "<div>\n",
              "<style scoped>\n",
              "    .dataframe tbody tr th:only-of-type {\n",
              "        vertical-align: middle;\n",
              "    }\n",
              "\n",
              "    .dataframe tbody tr th {\n",
              "        vertical-align: top;\n",
              "    }\n",
              "\n",
              "    .dataframe thead th {\n",
              "        text-align: right;\n",
              "    }\n",
              "</style>\n",
              "<table border=\"1\" class=\"dataframe\">\n",
              "  <thead>\n",
              "    <tr style=\"text-align: right;\">\n",
              "      <th></th>\n",
              "      <th>public_reference</th>\n",
              "      <th>mileage</th>\n",
              "      <th>reg_code</th>\n",
              "      <th>standard_colour</th>\n",
              "      <th>standard_make</th>\n",
              "      <th>standard_model</th>\n",
              "      <th>vehicle_condition</th>\n",
              "      <th>year_of_registration</th>\n",
              "      <th>price</th>\n",
              "      <th>body_type</th>\n",
              "      <th>crossover_car_and_van</th>\n",
              "      <th>fuel_type</th>\n",
              "    </tr>\n",
              "  </thead>\n",
              "  <tbody>\n",
              "    <tr>\n",
              "      <th>0</th>\n",
              "      <td>202006039777689</td>\n",
              "      <td>0.0</td>\n",
              "      <td>21</td>\n",
              "      <td>Grey</td>\n",
              "      <td>Volvo</td>\n",
              "      <td>XC90</td>\n",
              "      <td>NEW</td>\n",
              "      <td>2021</td>\n",
              "      <td>73970</td>\n",
              "      <td>SUV</td>\n",
              "      <td>False</td>\n",
              "      <td>Petrol Plug-in Hybrid</td>\n",
              "    </tr>\n",
              "    <tr>\n",
              "      <th>17</th>\n",
              "      <td>201911043995897</td>\n",
              "      <td>5.0</td>\n",
              "      <td>21</td>\n",
              "      <td>NaN</td>\n",
              "      <td>Nissan</td>\n",
              "      <td>X-Trail</td>\n",
              "      <td>NEW</td>\n",
              "      <td>2021</td>\n",
              "      <td>27595</td>\n",
              "      <td>SUV</td>\n",
              "      <td>False</td>\n",
              "      <td>Diesel</td>\n",
              "    </tr>\n",
              "    <tr>\n",
              "      <th>19</th>\n",
              "      <td>202008272998331</td>\n",
              "      <td>0.0</td>\n",
              "      <td>21</td>\n",
              "      <td>White</td>\n",
              "      <td>Volkswagen</td>\n",
              "      <td>T-Cross</td>\n",
              "      <td>NEW</td>\n",
              "      <td>2021</td>\n",
              "      <td>25000</td>\n",
              "      <td>SUV</td>\n",
              "      <td>False</td>\n",
              "      <td>Petrol</td>\n",
              "    </tr>\n",
              "    <tr>\n",
              "      <th>37</th>\n",
              "      <td>202001306737473</td>\n",
              "      <td>0.0</td>\n",
              "      <td>21</td>\n",
              "      <td>White</td>\n",
              "      <td>Fiat</td>\n",
              "      <td>Panda</td>\n",
              "      <td>NEW</td>\n",
              "      <td>2021</td>\n",
              "      <td>13999</td>\n",
              "      <td>Hatchback</td>\n",
              "      <td>False</td>\n",
              "      <td>Petrol</td>\n",
              "    </tr>\n",
              "    <tr>\n",
              "      <th>44</th>\n",
              "      <td>202003178531910</td>\n",
              "      <td>0.0</td>\n",
              "      <td>21</td>\n",
              "      <td>NaN</td>\n",
              "      <td>Honda</td>\n",
              "      <td>Civic</td>\n",
              "      <td>NEW</td>\n",
              "      <td>2021</td>\n",
              "      <td>19495</td>\n",
              "      <td>Hatchback</td>\n",
              "      <td>False</td>\n",
              "      <td>Petrol</td>\n",
              "    </tr>\n",
              "    <tr>\n",
              "      <th>...</th>\n",
              "      <td>...</td>\n",
              "      <td>...</td>\n",
              "      <td>...</td>\n",
              "      <td>...</td>\n",
              "      <td>...</td>\n",
              "      <td>...</td>\n",
              "      <td>...</td>\n",
              "      <td>...</td>\n",
              "      <td>...</td>\n",
              "      <td>...</td>\n",
              "      <td>...</td>\n",
              "      <td>...</td>\n",
              "    </tr>\n",
              "    <tr>\n",
              "      <th>401860</th>\n",
              "      <td>202010024501227</td>\n",
              "      <td>10.0</td>\n",
              "      <td>21</td>\n",
              "      <td>Silver</td>\n",
              "      <td>Mitsubishi</td>\n",
              "      <td>Shogun Sport</td>\n",
              "      <td>NEW</td>\n",
              "      <td>2021</td>\n",
              "      <td>31999</td>\n",
              "      <td>SUV</td>\n",
              "      <td>False</td>\n",
              "      <td>Diesel</td>\n",
              "    </tr>\n",
              "    <tr>\n",
              "      <th>401890</th>\n",
              "      <td>202010104843364</td>\n",
              "      <td>5.0</td>\n",
              "      <td>21</td>\n",
              "      <td>Red</td>\n",
              "      <td>BMW</td>\n",
              "      <td>Z4</td>\n",
              "      <td>NEW</td>\n",
              "      <td>2021</td>\n",
              "      <td>47910</td>\n",
              "      <td>Convertible</td>\n",
              "      <td>False</td>\n",
              "      <td>Petrol</td>\n",
              "    </tr>\n",
              "    <tr>\n",
              "      <th>401902</th>\n",
              "      <td>202010134960554</td>\n",
              "      <td>10.0</td>\n",
              "      <td>21</td>\n",
              "      <td>White</td>\n",
              "      <td>BMW</td>\n",
              "      <td>3 Series</td>\n",
              "      <td>NEW</td>\n",
              "      <td>2021</td>\n",
              "      <td>35023</td>\n",
              "      <td>Saloon</td>\n",
              "      <td>False</td>\n",
              "      <td>Petrol</td>\n",
              "    </tr>\n",
              "    <tr>\n",
              "      <th>401905</th>\n",
              "      <td>202010144983518</td>\n",
              "      <td>0.0</td>\n",
              "      <td>21</td>\n",
              "      <td>Red</td>\n",
              "      <td>Land Rover</td>\n",
              "      <td>Range Rover Evoque</td>\n",
              "      <td>NEW</td>\n",
              "      <td>2021</td>\n",
              "      <td>44995</td>\n",
              "      <td>SUV</td>\n",
              "      <td>False</td>\n",
              "      <td>Petrol</td>\n",
              "    </tr>\n",
              "    <tr>\n",
              "      <th>401971</th>\n",
              "      <td>202010285515882</td>\n",
              "      <td>10.0</td>\n",
              "      <td>21</td>\n",
              "      <td>Grey</td>\n",
              "      <td>Nissan</td>\n",
              "      <td>Leaf</td>\n",
              "      <td>NEW</td>\n",
              "      <td>2021</td>\n",
              "      <td>28820</td>\n",
              "      <td>Hatchback</td>\n",
              "      <td>False</td>\n",
              "      <td>Electric</td>\n",
              "    </tr>\n",
              "  </tbody>\n",
              "</table>\n",
              "<p>31249 rows × 12 columns</p>\n",
              "</div>"
            ],
            "text/plain": [
              "        public_reference  mileage reg_code standard_colour standard_make  \\\n",
              "0        202006039777689      0.0       21            Grey         Volvo   \n",
              "17       201911043995897      5.0       21             NaN        Nissan   \n",
              "19       202008272998331      0.0       21           White    Volkswagen   \n",
              "37       202001306737473      0.0       21           White          Fiat   \n",
              "44       202003178531910      0.0       21             NaN         Honda   \n",
              "...                  ...      ...      ...             ...           ...   \n",
              "401860   202010024501227     10.0       21          Silver    Mitsubishi   \n",
              "401890   202010104843364      5.0       21             Red           BMW   \n",
              "401902   202010134960554     10.0       21           White           BMW   \n",
              "401905   202010144983518      0.0       21             Red    Land Rover   \n",
              "401971   202010285515882     10.0       21            Grey        Nissan   \n",
              "\n",
              "            standard_model vehicle_condition  year_of_registration  price  \\\n",
              "0                     XC90               NEW                  2021  73970   \n",
              "17                 X-Trail               NEW                  2021  27595   \n",
              "19                 T-Cross               NEW                  2021  25000   \n",
              "37                   Panda               NEW                  2021  13999   \n",
              "44                   Civic               NEW                  2021  19495   \n",
              "...                    ...               ...                   ...    ...   \n",
              "401860        Shogun Sport               NEW                  2021  31999   \n",
              "401890                  Z4               NEW                  2021  47910   \n",
              "401902            3 Series               NEW                  2021  35023   \n",
              "401905  Range Rover Evoque               NEW                  2021  44995   \n",
              "401971                Leaf               NEW                  2021  28820   \n",
              "\n",
              "          body_type  crossover_car_and_van              fuel_type  \n",
              "0               SUV                  False  Petrol Plug-in Hybrid  \n",
              "17              SUV                  False                 Diesel  \n",
              "19              SUV                  False                 Petrol  \n",
              "37        Hatchback                  False                 Petrol  \n",
              "44        Hatchback                  False                 Petrol  \n",
              "...             ...                    ...                    ...  \n",
              "401860          SUV                  False                 Diesel  \n",
              "401890  Convertible                  False                 Petrol  \n",
              "401902       Saloon                  False                 Petrol  \n",
              "401905          SUV                  False                 Petrol  \n",
              "401971    Hatchback                  False               Electric  \n",
              "\n",
              "[31249 rows x 12 columns]"
            ]
          },
          "execution_count": 35,
          "metadata": {},
          "output_type": "execute_result"
        }
      ],
      "source": [
        "df[df['vehicle_condition'] == 'NEW']"
      ]
    },
    {
      "cell_type": "code",
      "execution_count": 36,
      "metadata": {
        "id": "hZrS6ynyszId"
      },
      "outputs": [],
      "source": [
        "df['standard_colour'] = df['standard_colour'].fillna(\"white\")"
      ]
    },
    {
      "cell_type": "code",
      "execution_count": 37,
      "metadata": {
        "id": "k0dk3V-LtNiC"
      },
      "outputs": [],
      "source": [
        "df['body_type'] = df['body_type'].fillna(\"SUV\")"
      ]
    },
    {
      "cell_type": "code",
      "execution_count": 38,
      "metadata": {
        "id": "kOHhhOS-tput"
      },
      "outputs": [],
      "source": [
        "df['fuel_type'] = df['fuel_type'].fillna(\"Diesel\")"
      ]
    },
    {
      "cell_type": "code",
      "execution_count": 39,
      "metadata": {},
      "outputs": [],
      "source": [
        "df['mileage'].fillna(df['mileage'].median(), inplace=True)"
      ]
    },
    {
      "cell_type": "code",
      "execution_count": 40,
      "metadata": {},
      "outputs": [],
      "source": [
        "df['year_of_registration'].fillna(df['year_of_registration'].median(), inplace=True)"
      ]
    },
    {
      "cell_type": "code",
      "execution_count": 41,
      "metadata": {},
      "outputs": [],
      "source": [
        "# Convert 'crossover_car_and_van' to integer type\n",
        "df['crossover_car_and_van'] = df['crossover_car_and_van'].astype(int)"
      ]
    },
    {
      "cell_type": "code",
      "execution_count": 42,
      "metadata": {},
      "outputs": [],
      "source": [
        "# Fill other missing values with 'Unknown'\n",
        "df.fillna('Unknown', inplace=True)"
      ]
    },
    {
      "cell_type": "code",
      "execution_count": 43,
      "metadata": {},
      "outputs": [
        {
          "name": "stderr",
          "output_type": "stream",
          "text": [
            "C:\\Users\\User\\AppData\\Local\\Temp\\ipykernel_16064\\3940661385.py:2: FutureWarning: DataFrame.applymap has been deprecated. Use DataFrame.map instead.\n",
            "  df = df.applymap(lambda x: x.lower() if isinstance(x, str) else x)\n"
          ]
        }
      ],
      "source": [
        "# Normalize string data to lower case\n",
        "df = df.applymap(lambda x: x.lower() if isinstance(x, str) else x)\n"
      ]
    },
    {
      "cell_type": "code",
      "execution_count": 45,
      "metadata": {},
      "outputs": [],
      "source": [
        "# Calculate vehicle age\n",
        "current_year = pd.to_datetime('now').year\n",
        "df['vehicle_age'] = current_year - df['year_of_registration']"
      ]
    },
    {
      "cell_type": "code",
      "execution_count": 47,
      "metadata": {},
      "outputs": [
        {
          "name": "stdout",
          "output_type": "stream",
          "text": [
            "Descriptive Statistics:\n",
            "       public_reference        mileage  year_of_registration         price  \\\n",
            "count      4.020050e+05  402005.000000         402005.000000  4.020050e+05   \n",
            "mean       2.020071e+14   37743.595656           2015.502864  1.734197e+04   \n",
            "std        1.691662e+10   34826.221612              7.802594  4.643746e+04   \n",
            "min        2.013072e+14       0.000000            999.000000  1.200000e+02   \n",
            "25%        2.020090e+14   10487.000000           2014.000000  7.495000e+03   \n",
            "50%        2.020093e+14   28648.000000           2017.000000  1.260000e+04   \n",
            "75%        2.020102e+14   56852.000000           2019.000000  2.000000e+04   \n",
            "max        2.020110e+14  999999.000000           2021.000000  9.999999e+06   \n",
            "\n",
            "       crossover_car_and_van    vehicle_age  \n",
            "count          402005.000000  402005.000000  \n",
            "mean                0.004465       7.497136  \n",
            "std                 0.066672       7.802594  \n",
            "min                 0.000000       2.000000  \n",
            "25%                 0.000000       4.000000  \n",
            "50%                 0.000000       6.000000  \n",
            "75%                 0.000000       9.000000  \n",
            "max                 1.000000    1024.000000  \n"
          ]
        }
      ],
      "source": [
        "# Descriptive Statistics\n",
        "print(\"Descriptive Statistics:\")\n",
        "print(df.describe())"
      ]
    },
    {
      "cell_type": "code",
      "execution_count": 49,
      "metadata": {},
      "outputs": [
        {
          "data": {
            "text/plain": [
              "Text(0.5, 1.0, 'Price Distribution')"
            ]
          },
          "execution_count": 49,
          "metadata": {},
          "output_type": "execute_result"
        },
        {
          "data": {
            "image/png": "[encoded data removed]",
            "text/plain": [
              "<Figure size 1500x500 with 1 Axes>"
            ]
          },
          "metadata": {},
          "output_type": "display_data"
        }
      ],
      "source": [
        "# Histograms for Price, Mileage, and Vehicle Age\n",
        "plt.figure(figsize=(15, 5))\n",
        "plt.subplot(1, 3, 1)\n",
        "sns.histplot(df['price'], bins=30)\n",
        "plt.title('Price Distribution')"
      ]
    },
    {
      "cell_type": "code",
      "execution_count": 50,
      "metadata": {},
      "outputs": [
        {
          "data": {
            "text/plain": [
              "Text(0.5, 1.0, 'Mileage Distribution')"
            ]
          },
          "execution_count": 50,
          "metadata": {},
          "output_type": "execute_result"
        },
        {
          "data": {
            "image/png": "[encoded data removed]",
            "text/plain": [
              "<Figure size 640x480 with 1 Axes>"
            ]
          },
          "metadata": {},
          "output_type": "display_data"
        }
      ],
      "source": [
        "plt.subplot(1, 3, 2)\n",
        "sns.histplot(df['mileage'], bins=30)\n",
        "plt.title('Mileage Distribution')"
      ]
    },
    {
      "cell_type": "code",
      "execution_count": 51,
      "metadata": {},
      "outputs": [
        {
          "data": {
            "image/png": "[encoded data removed]",
            "text/plain": [
              "<Figure size 640x480 with 1 Axes>"
            ]
          },
          "metadata": {},
          "output_type": "display_data"
        }
      ],
      "source": [
        "plt.subplot(1, 3, 3)\n",
        "sns.histplot(df['vehicle_age'], bins=30)\n",
        "plt.title('Vehicle Age Distribution')\n",
        "plt.tight_layout()\n",
        "plt.show()"
      ]
    },
    {
      "cell_type": "code",
      "execution_count": 52,
      "metadata": {},
      "outputs": [
        {
          "name": "stdout",
          "output_type": "stream",
          "text": [
            "Correlation Matrix:\n",
            "                price   mileage  vehicle_age\n",
            "price        1.000000 -0.160194    -0.075174\n",
            "mileage     -0.160194  1.000000     0.413185\n",
            "vehicle_age -0.075174  0.413185     1.000000\n"
          ]
        }
      ],
      "source": [
        "# Correlation Matrix\n",
        "print(\"Correlation Matrix:\")\n",
        "print(df[['price', 'mileage', 'vehicle_age']].corr())"
      ]
    },
    {
      "cell_type": "code",
      "execution_count": 54,
      "metadata": {},
      "outputs": [
        {
          "data": {
            "text/plain": [
              "Text(0.5, 1.0, 'Top 10 Car Makes')"
            ]
          },
          "execution_count": 54,
          "metadata": {},
          "output_type": "execute_result"
        },
        {
          "data": {
            "image/png": "[encoded data removed]",
            "text/plain": [
              "<Figure size 1500x500 with 1 Axes>"
            ]
          },
          "metadata": {},
          "output_type": "display_data"
        }
      ],
      "source": [
        "# Bar Plots for Categorical Data (Top 10 Car Makes and Fuel Type Distribution)\n",
        "plt.figure(figsize=(15, 5))\n",
        "plt.subplot(1, 2, 1)\n",
        "top_makes = df['standard_make'].value_counts().head(10)\n",
        "sns.barplot(x=top_makes.values, y=top_makes.index)\n",
        "plt.title('Top 10 Car Makes')"
      ]
    },
    {
      "cell_type": "code",
      "execution_count": 55,
      "metadata": {},
      "outputs": [
        {
          "data": {
            "image/png": "[encoded data removed]",
            "text/plain": [
              "<Figure size 640x480 with 1 Axes>"
            ]
          },
          "metadata": {},
          "output_type": "display_data"
        }
      ],
      "source": [
        "plt.subplot(1, 2, 2)\n",
        "fuel_type_counts = df['fuel_type'].value_counts()\n",
        "sns.barplot(x=fuel_type_counts.values, y=fuel_type_counts.index)\n",
        "plt.title('Fuel Type Distribution')\n",
        "plt.tight_layout()\n",
        "plt.show()"
      ]
    },
    {
      "cell_type": "code",
      "execution_count": 56,
      "metadata": {},
      "outputs": [],
      "source": [
        "from sklearn.model_selection import train_test_split\n",
        "from sklearn.ensemble import RandomForestRegressor\n",
        "from sklearn.metrics import mean_absolute_error, mean_squared_error, r2_score\n",
        "from sklearn.preprocessing import OneHotEncoder\n",
        "import numpy as np"
      ]
    },
    {
      "cell_type": "code",
      "execution_count": 57,
      "metadata": {},
      "outputs": [],
      "source": [
        "# Prepare the data\n",
        "X = df[['mileage', 'vehicle_age']]  # Add more features as needed\n",
        "y = df['price']"
      ]
    },
    {
      "cell_type": "code",
      "execution_count": 58,
      "metadata": {},
      "outputs": [],
      "source": [
        "# Split the data\n",
        "X_train, X_test, y_train, y_test = train_test_split(X, y, test_size=0.2, random_state=42)\n"
      ]
    },
    {
      "cell_type": "code",
      "execution_count": 59,
      "metadata": {},
      "outputs": [
        {
          "data": {
            "text/html": [
              "<style>#sk-container-id-1 {color: black;}#sk-container-id-1 pre{padding: 0;}#sk-container-id-1 div.sk-toggleable {background-color: white;}#sk-container-id-1 label.sk-toggleable__label {cursor: pointer;display: block;width: 100%;margin-bottom: 0;padding: 0.3em;box-sizing: border-box;text-align: center;}#sk-container-id-1 label.sk-toggleable__label-arrow:before {content: \"▸\";float: left;margin-right: 0.25em;color: #696969;}#sk-container-id-1 label.sk-toggleable__label-arrow:hover:before {color: black;}#sk-container-id-1 div.sk-estimator:hover label.sk-toggleable__label-arrow:before {color: black;}#sk-container-id-1 div.sk-toggleable__content {max-height: 0;max-width: 0;overflow: hidden;text-align: left;background-color: #f0f8ff;}#sk-container-id-1 div.sk-toggleable__content pre {margin: 0.2em;color: black;border-radius: 0.25em;background-color: #f0f8ff;}#sk-container-id-1 input.sk-toggleable__control:checked~div.sk-toggleable__content {max-height: 200px;max-width: 100%;overflow: auto;}#sk-container-id-1 input.sk-toggleable__control:checked~label.sk-toggleable__label-arrow:before {content: \"▾\";}#sk-container-id-1 div.sk-estimator input.sk-toggleable__control:checked~label.sk-toggleable__label {background-color: #d4ebff;}#sk-container-id-1 div.sk-label input.sk-toggleable__control:checked~label.sk-toggleable__label {background-color: #d4ebff;}#sk-container-id-1 input.sk-hidden--visually {border: 0;clip: rect(1px 1px 1px 1px);clip: rect(1px, 1px, 1px, 1px);height: 1px;margin: -1px;overflow: hidden;padding: 0;position: absolute;width: 1px;}#sk-container-id-1 div.sk-estimator {font-family: monospace;background-color: #f0f8ff;border: 1px dotted black;border-radius: 0.25em;box-sizing: border-box;margin-bottom: 0.5em;}#sk-container-id-1 div.sk-estimator:hover {background-color: #d4ebff;}#sk-container-id-1 div.sk-parallel-item::after {content: \"\";width: 100%;border-bottom: 1px solid gray;flex-grow: 1;}#sk-container-id-1 div.sk-label:hover label.sk-toggleable__label {background-color: #d4ebff;}#sk-container-id-1 div.sk-serial::before {content: \"\";position: absolute;border-left: 1px solid gray;box-sizing: border-box;top: 0;bottom: 0;left: 50%;z-index: 0;}#sk-container-id-1 div.sk-serial {display: flex;flex-direction: column;align-items: center;background-color: white;padding-right: 0.2em;padding-left: 0.2em;position: relative;}#sk-container-id-1 div.sk-item {position: relative;z-index: 1;}#sk-container-id-1 div.sk-parallel {display: flex;align-items: stretch;justify-content: center;background-color: white;position: relative;}#sk-container-id-1 div.sk-item::before, #sk-container-id-1 div.sk-parallel-item::before {content: \"\";position: absolute;border-left: 1px solid gray;box-sizing: border-box;top: 0;bottom: 0;left: 50%;z-index: -1;}#sk-container-id-1 div.sk-parallel-item {display: flex;flex-direction: column;z-index: 1;position: relative;background-color: white;}#sk-container-id-1 div.sk-parallel-item:first-child::after {align-self: flex-end;width: 50%;}#sk-container-id-1 div.sk-parallel-item:last-child::after {align-self: flex-start;width: 50%;}#sk-container-id-1 div.sk-parallel-item:only-child::after {width: 0;}#sk-container-id-1 div.sk-dashed-wrapped {border: 1px dashed gray;margin: 0 0.4em 0.5em 0.4em;box-sizing: border-box;padding-bottom: 0.4em;background-color: white;}#sk-container-id-1 div.sk-label label {font-family: monospace;font-weight: bold;display: inline-block;line-height: 1.2em;}#sk-container-id-1 div.sk-label-container {text-align: center;}#sk-container-id-1 div.sk-container {/* jupyter's `normalize.less` sets `[hidden] { display: none; }` but bootstrap.min.css set `[hidden] { display: none !important; }` so we also need the `!important` here to be able to override the default hidden behavior on the sphinx rendered scikit-learn.org. See: https://github.com/scikit-learn/scikit-learn/issues/21755 */display: inline-block !important;position: relative;}#sk-container-id-1 div.sk-text-repr-fallback {display: none;}</style><div id=\"sk-container-id-1\" class=\"sk-top-container\"><div class=\"sk-text-repr-fallback\"><pre>RandomForestRegressor(random_state=42)</pre><b>In a Jupyter environment, please rerun this cell to show the HTML representation or trust the notebook. <br />On GitHub, the HTML representation is unable to render, please try loading this page with nbviewer.org.</b></div><div class=\"sk-container\" hidden><div class=\"sk-item\"><div class=\"sk-estimator sk-toggleable\"><input class=\"sk-toggleable__control sk-hidden--visually\" id=\"sk-estimator-id-1\" type=\"checkbox\" checked><label for=\"sk-estimator-id-1\" class=\"sk-toggleable__label sk-toggleable__label-arrow\">RandomForestRegressor</label><div class=\"sk-toggleable__content\"><pre>RandomForestRegressor(random_state=42)</pre></div></div></div></div></div>"
            ],
            "text/plain": [
              "RandomForestRegressor(random_state=42)"
            ]
          },
          "execution_count": 59,
          "metadata": {},
          "output_type": "execute_result"
        }
      ],
      "source": [
        "# Model Building\n",
        "model = RandomForestRegressor(n_estimators=100, random_state=42)\n",
        "model.fit(X_train, y_train)"
      ]
    },
    {
      "cell_type": "code",
      "execution_count": 60,
      "metadata": {},
      "outputs": [],
      "source": [
        "# Model Prediction\n",
        "y_pred = model.predict(X_test)"
      ]
    },
    {
      "cell_type": "code",
      "execution_count": 61,
      "metadata": {},
      "outputs": [],
      "source": [
        "# Model Evaluation\n",
        "mae = mean_absolute_error(y_test, y_pred)\n",
        "mse = mean_squared_error(y_test, y_pred)\n",
        "r2 = r2_score(y_test, y_pred)"
      ]
    },
    {
      "cell_type": "code",
      "execution_count": 62,
      "metadata": {},
      "outputs": [
        {
          "name": "stdout",
          "output_type": "stream",
          "text": [
            "Mean Absolute Error: 9238.737727633146\n",
            "Mean Squared Error: 1976576543.5640268\n",
            "R-squared: -0.05035660114322349\n"
          ]
        }
      ],
      "source": [
        "print(f'Mean Absolute Error: {mae}')\n",
        "print(f'Mean Squared Error: {mse}')\n",
        "print(f'R-squared: {r2}')"
      ]
    },
    {
      "cell_type": "code",
      "execution_count": 63,
      "metadata": {},
      "outputs": [],
      "source": [
        "# Feature Importance\n",
        "importances = model.feature_importances_\n",
        "indices = np.argsort(importances)\n",
        "features = X_train.columns"
      ]
    },
    {
      "cell_type": "code",
      "execution_count": 64,
      "metadata": {},
      "outputs": [
        {
          "data": {
            "image/png": "[encoded data removed]",
            "text/plain": [
              "<Figure size 640x480 with 1 Axes>"
            ]
          },
          "metadata": {},
          "output_type": "display_data"
        }
      ],
      "source": [
        "plt.title('Feature Importances')\n",
        "plt.barh(range(len(indices)), importances[indices], color='b', align='center')\n",
        "plt.yticks(range(len(indices)), [features[i] for i in indices])\n",
        "plt.xlabel('Relative Importance')\n",
        "plt.show()"
      ]
    },
    {
      "cell_type": "code",
      "execution_count": 65,
      "metadata": {},
      "outputs": [
        {
          "data": {
            "image/png": "[encoded data removed]",
            "text/plain": [
              "<Figure size 640x480 with 1 Axes>"
            ]
          },
          "metadata": {},
          "output_type": "display_data"
        }
      ],
      "source": [
        "# Residual Plot\n",
        "residuals = y_test - y_pred\n",
        "plt.scatter(y_test, residuals)\n",
        "plt.title('Residual Plot')\n",
        "plt.xlabel('Actual Price')\n",
        "plt.ylabel('Residuals')\n",
        "plt.axhline(y=0, color='r', linestyle='-')\n",
        "plt.show()"
      ]
    }
  ],
  "metadata": {
    "colab": {
      "provenance": []
    },
    "kernelspec": {
      "display_name": "Python 3",
      "name": "python3"
    },
    "language_info": {
      "codemirror_mode": {
        "name": "ipython",
        "version": 3
      },
      "file_extension": ".py",
      "mimetype": "text/x-python",
      "name": "python",
      "nbconvert_exporter": "python",
      "pygments_lexer": "ipython3",
      "version": "3.12.0"
    }
  },
  "nbformat": 4,
  "nbformat_minor": 0
}
