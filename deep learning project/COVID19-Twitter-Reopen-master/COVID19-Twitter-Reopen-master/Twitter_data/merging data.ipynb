{
 "cells": [
  {
   "cell_type": "code",
   "execution_count": 8,
   "metadata": {
    "ExecuteTime": {
     "end_time": "2022-01-01T00:06:48.986144Z",
     "start_time": "2022-01-01T00:06:48.853636Z"
    }
   },
   "outputs": [],
   "source": [
    "import pandas as pd\n",
    "data=pd.read_csv(\"C:\\\\Users\\\\DELL\\\\Desktop\\\\touseef\\\\COVID19-Twitter-Reopen-master\\\\COVID19-Twitter-Reopen-master\\\\Twitter_data\\\\data\\\\covid_data.csv\")"
   ]
  },
  {
   "cell_type": "code",
   "execution_count": 9,
   "metadata": {
    "ExecuteTime": {
     "end_time": "2022-01-01T00:06:59.460360Z",
     "start_time": "2022-01-01T00:06:59.441372Z"
    }
   },
   "outputs": [],
   "source": [
    "df=data.copy()"
   ]
  },
  {
   "cell_type": "code",
   "execution_count": 20,
   "metadata": {
    "ExecuteTime": {
     "end_time": "2022-01-01T00:08:17.234699Z",
     "start_time": "2022-01-01T00:08:17.101817Z"
    }
   },
   "outputs": [],
   "source": [
    "data=pd.read_csv(\"C:\\\\Users\\\\DELL\\\\Desktop\\\\touseef\\\\COVID19-Twitter-Reopen-master\\\\COVID19-Twitter-Reopen-master\\\\Twitter_data\\\\data\\\\covid_data2.csv\")"
   ]
  },
  {
   "cell_type": "code",
   "execution_count": 21,
   "metadata": {
    "ExecuteTime": {
     "end_time": "2022-01-01T00:08:29.730056Z",
     "start_time": "2022-01-01T00:08:29.711067Z"
    }
   },
   "outputs": [],
   "source": [
    "df2=data.copy()"
   ]
  },
  {
   "cell_type": "code",
   "execution_count": 24,
   "metadata": {
    "ExecuteTime": {
     "end_time": "2022-01-01T00:08:56.189477Z",
     "start_time": "2022-01-01T00:08:56.163494Z"
    }
   },
   "outputs": [],
   "source": [
    "df=pd.concat([df,df2],axis=0).reset_index()"
   ]
  },
  {
   "cell_type": "code",
   "execution_count": 25,
   "metadata": {
    "ExecuteTime": {
     "end_time": "2022-01-01T00:09:16.755487Z",
     "start_time": "2022-01-01T00:09:16.277161Z"
    }
   },
   "outputs": [],
   "source": [
    "df.to_csv(\"data\\\\covid_data.csv\")"
   ]
  },
  {
   "cell_type": "code",
   "execution_count": null,
   "metadata": {},
   "outputs": [],
   "source": []
  }
 ],
 "metadata": {
  "kernelspec": {
   "display_name": "Python 3",
   "language": "python",
   "name": "python3"
  },
  "language_info": {
   "codemirror_mode": {
    "name": "ipython",
    "version": 3
   },
   "file_extension": ".py",
   "mimetype": "text/x-python",
   "name": "python",
   "nbconvert_exporter": "python",
   "pygments_lexer": "ipython3",
   "version": "3.8.5"
  }
 },
 "nbformat": 4,
 "nbformat_minor": 4
}
